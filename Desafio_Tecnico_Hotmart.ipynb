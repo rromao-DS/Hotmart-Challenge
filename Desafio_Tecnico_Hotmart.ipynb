{
 "cells": [
  {
   "cell_type": "markdown",
   "id": "78be85ab",
   "metadata": {},
   "source": [
    "# 1.0 Imports"
   ]
  },
  {
   "cell_type": "code",
   "execution_count": 19,
   "id": "21fad30a",
   "metadata": {
    "ExecuteTime": {
     "end_time": "2022-09-01T23:35:30.829660Z",
     "start_time": "2022-09-01T23:35:30.826213Z"
    }
   },
   "outputs": [],
   "source": [
    "import pandas as pd \n",
    "import warnings\n",
    "import mysql.connector\n",
    "warnings.filterwarnings( 'ignore' )"
   ]
  },
  {
   "cell_type": "markdown",
   "id": "a3ea4954",
   "metadata": {},
   "source": [
    "## 0.1 Establishing the connection "
   ]
  },
  {
   "cell_type": "code",
   "execution_count": 21,
   "id": "4ab8c62d",
   "metadata": {
    "ExecuteTime": {
     "end_time": "2022-09-01T23:36:28.178684Z",
     "start_time": "2022-09-01T23:36:27.445233Z"
    }
   },
   "outputs": [],
   "source": [
    "conn = mysql.connector.connect(\n",
    "    user='admin', password='0WHPq8U2yJ9JgHVjsRBM', host='interview-2.ck1h5ksgzpiq.us-east-1.rds.amazonaws.com', database='innodb')"
   ]
  },
  {
   "cell_type": "markdown",
   "id": "ca84c1b1",
   "metadata": {},
   "source": [
    "## 0.2 Reading the table Into a DataFrame"
   ]
  },
  {
   "cell_type": "code",
   "execution_count": 22,
   "id": "1ab8f6ad",
   "metadata": {
    "ExecuteTime": {
     "end_time": "2022-09-01T23:37:07.618327Z",
     "start_time": "2022-09-01T23:36:36.847905Z"
    }
   },
   "outputs": [],
   "source": [
    "sql_query = pd.read_sql_query('''\n",
    "                             SELECT * FROM sales_data''', \n",
    "                             conn)"
   ]
  },
  {
   "cell_type": "markdown",
   "id": "9386d9b6",
   "metadata": {},
   "source": [
    "- loading into a CSV file"
   ]
  },
  {
   "cell_type": "code",
   "execution_count": 30,
   "id": "45f3265d",
   "metadata": {
    "ExecuteTime": {
     "end_time": "2022-09-02T00:23:21.737280Z",
     "start_time": "2022-09-02T00:23:12.805910Z"
    }
   },
   "outputs": [],
   "source": [
    "sql_query.to_csv('/Users/rromao/Desktop/Repos/Hotmart/exported_data.csv', index=False)"
   ]
  },
  {
   "cell_type": "markdown",
   "id": "b02803e2",
   "metadata": {},
   "source": [
    "## 0.3 Loading Data"
   ]
  },
  {
   "cell_type": "code",
   "execution_count": 31,
   "id": "d8c20139",
   "metadata": {
    "ExecuteTime": {
     "end_time": "2022-09-02T00:23:48.341573Z",
     "start_time": "2022-09-02T00:23:46.046028Z"
    }
   },
   "outputs": [],
   "source": [
    "df_raw = pd.read_csv('/Users/rromao/Desktop/Repos/Hotmart/exported_data.csv', low_memory=False)"
   ]
  },
  {
   "cell_type": "code",
   "execution_count": 33,
   "id": "d724c610",
   "metadata": {
    "ExecuteTime": {
     "end_time": "2022-09-02T00:26:40.722197Z",
     "start_time": "2022-09-02T00:26:40.700547Z"
    }
   },
   "outputs": [
    {
     "data": {
      "text/html": [
       "<div>\n",
       "<style scoped>\n",
       "    .dataframe tbody tr th:only-of-type {\n",
       "        vertical-align: middle;\n",
       "    }\n",
       "\n",
       "    .dataframe tbody tr th {\n",
       "        vertical-align: top;\n",
       "    }\n",
       "\n",
       "    .dataframe thead th {\n",
       "        text-align: right;\n",
       "    }\n",
       "</style>\n",
       "<table border=\"1\" class=\"dataframe\">\n",
       "  <thead>\n",
       "    <tr style=\"text-align: right;\">\n",
       "      <th></th>\n",
       "      <th>purchase_id</th>\n",
       "      <th>product_id</th>\n",
       "      <th>affiliate_id</th>\n",
       "      <th>producer_id</th>\n",
       "      <th>buyer_id</th>\n",
       "      <th>purchase_date</th>\n",
       "      <th>product_creation_date</th>\n",
       "      <th>product_category</th>\n",
       "      <th>product_niche</th>\n",
       "      <th>purchase_value</th>\n",
       "      <th>affiliate_commission_percentual</th>\n",
       "      <th>purchase_device</th>\n",
       "      <th>purchase_origin</th>\n",
       "      <th>is_origin_page_social_network</th>\n",
       "    </tr>\n",
       "  </thead>\n",
       "  <tbody>\n",
       "    <tr>\n",
       "      <th>0</th>\n",
       "      <td>0</td>\n",
       "      <td>NaN</td>\n",
       "      <td>NaN</td>\n",
       "      <td>NaN</td>\n",
       "      <td>NaN</td>\n",
       "      <td>NaN</td>\n",
       "      <td>NaN</td>\n",
       "      <td>NaN</td>\n",
       "      <td>NaN</td>\n",
       "      <td>NaN</td>\n",
       "      <td>NaN</td>\n",
       "      <td>NaN</td>\n",
       "      <td>NaN</td>\n",
       "      <td>0</td>\n",
       "    </tr>\n",
       "    <tr>\n",
       "      <th>1</th>\n",
       "      <td>1663958</td>\n",
       "      <td>6640.0</td>\n",
       "      <td>209372.0</td>\n",
       "      <td>116238.0</td>\n",
       "      <td>1200397.0</td>\n",
       "      <td>2016-06-26 12:00:00</td>\n",
       "      <td>2011-03-19 15:47:36</td>\n",
       "      <td>Video</td>\n",
       "      <td>Presentation skills</td>\n",
       "      <td>-0.265302</td>\n",
       "      <td>NaN</td>\n",
       "      <td>Smart TV</td>\n",
       "      <td>Origin ef2b</td>\n",
       "      <td>0,0</td>\n",
       "    </tr>\n",
       "    <tr>\n",
       "      <th>2</th>\n",
       "      <td>1677087</td>\n",
       "      <td>2350.0</td>\n",
       "      <td>141418.0</td>\n",
       "      <td>2821.0</td>\n",
       "      <td>1083764.0</td>\n",
       "      <td>2016-06-26 12:00:00</td>\n",
       "      <td>2010-07-05 01:50:15</td>\n",
       "      <td>Podcast</td>\n",
       "      <td>Child psychology</td>\n",
       "      <td>-0.177077</td>\n",
       "      <td>NaN</td>\n",
       "      <td>Smart TV</td>\n",
       "      <td>Origin ef2b</td>\n",
       "      <td>0,0</td>\n",
       "    </tr>\n",
       "    <tr>\n",
       "      <th>3</th>\n",
       "      <td>2017360</td>\n",
       "      <td>35669.0</td>\n",
       "      <td>618642.0</td>\n",
       "      <td>618642.0</td>\n",
       "      <td>1436106.0</td>\n",
       "      <td>2016-06-26 12:00:00</td>\n",
       "      <td>2012-06-13 02:59:37</td>\n",
       "      <td>Podcast</td>\n",
       "      <td>Presentation skills</td>\n",
       "      <td>-0.468989</td>\n",
       "      <td>NaN</td>\n",
       "      <td>Smart TV</td>\n",
       "      <td>Origin ef2b</td>\n",
       "      <td>0,0</td>\n",
       "    </tr>\n",
       "    <tr>\n",
       "      <th>4</th>\n",
       "      <td>2017379</td>\n",
       "      <td>57998.0</td>\n",
       "      <td>1164511.0</td>\n",
       "      <td>70388.0</td>\n",
       "      <td>1436118.0</td>\n",
       "      <td>2016-06-26 12:00:00</td>\n",
       "      <td>2013-05-07 08:51:31</td>\n",
       "      <td>Podcast</td>\n",
       "      <td>Anxiety management</td>\n",
       "      <td>-0.401168</td>\n",
       "      <td>NaN</td>\n",
       "      <td>Smart TV</td>\n",
       "      <td>Origin ef2b</td>\n",
       "      <td>0,0</td>\n",
       "    </tr>\n",
       "  </tbody>\n",
       "</table>\n",
       "</div>"
      ],
      "text/plain": [
       "   purchase_id  product_id  affiliate_id  producer_id   buyer_id  \\\n",
       "0            0         NaN           NaN          NaN        NaN   \n",
       "1      1663958      6640.0      209372.0     116238.0  1200397.0   \n",
       "2      1677087      2350.0      141418.0       2821.0  1083764.0   \n",
       "3      2017360     35669.0      618642.0     618642.0  1436106.0   \n",
       "4      2017379     57998.0     1164511.0      70388.0  1436118.0   \n",
       "\n",
       "         purchase_date product_creation_date product_category  \\\n",
       "0                  NaN                   NaN              NaN   \n",
       "1  2016-06-26 12:00:00   2011-03-19 15:47:36            Video   \n",
       "2  2016-06-26 12:00:00   2010-07-05 01:50:15          Podcast   \n",
       "3  2016-06-26 12:00:00   2012-06-13 02:59:37          Podcast   \n",
       "4  2016-06-26 12:00:00   2013-05-07 08:51:31          Podcast   \n",
       "\n",
       "         product_niche  purchase_value  affiliate_commission_percentual  \\\n",
       "0                  NaN             NaN                              NaN   \n",
       "1  Presentation skills       -0.265302                              NaN   \n",
       "2     Child psychology       -0.177077                              NaN   \n",
       "3  Presentation skills       -0.468989                              NaN   \n",
       "4   Anxiety management       -0.401168                              NaN   \n",
       "\n",
       "  purchase_device purchase_origin is_origin_page_social_network  \n",
       "0             NaN             NaN                             0  \n",
       "1        Smart TV     Origin ef2b                           0,0  \n",
       "2        Smart TV     Origin ef2b                           0,0  \n",
       "3        Smart TV     Origin ef2b                           0,0  \n",
       "4        Smart TV     Origin ef2b                           0,0  "
      ]
     },
     "execution_count": 33,
     "metadata": {},
     "output_type": "execute_result"
    }
   ],
   "source": [
    "df_raw.head(5)"
   ]
  },
  {
   "cell_type": "code",
   "execution_count": null,
   "id": "4c8f34c3",
   "metadata": {},
   "outputs": [],
   "source": []
  },
  {
   "cell_type": "code",
   "execution_count": null,
   "id": "3ee3b9b8",
   "metadata": {},
   "outputs": [],
   "source": []
  }
 ],
 "metadata": {
  "hide_input": false,
  "kernelspec": {
   "display_name": "Python 3 (ipykernel)",
   "language": "python",
   "name": "python3"
  },
  "language_info": {
   "codemirror_mode": {
    "name": "ipython",
    "version": 3
   },
   "file_extension": ".py",
   "mimetype": "text/x-python",
   "name": "python",
   "nbconvert_exporter": "python",
   "pygments_lexer": "ipython3",
   "version": "3.9.5"
  },
  "varInspector": {
   "cols": {
    "lenName": 16,
    "lenType": 16,
    "lenVar": 40
   },
   "kernels_config": {
    "python": {
     "delete_cmd_postfix": "",
     "delete_cmd_prefix": "del ",
     "library": "var_list.py",
     "varRefreshCmd": "print(var_dic_list())"
    },
    "r": {
     "delete_cmd_postfix": ") ",
     "delete_cmd_prefix": "rm(",
     "library": "var_list.r",
     "varRefreshCmd": "cat(var_dic_list()) "
    }
   },
   "types_to_exclude": [
    "module",
    "function",
    "builtin_function_or_method",
    "instance",
    "_Feature"
   ],
   "window_display": false
  }
 },
 "nbformat": 4,
 "nbformat_minor": 5
}
