{
 "cells": [
  {
   "cell_type": "markdown",
   "id": "cf6bfab6",
   "metadata": {},
   "source": [
    "# 1.0 IMPOSTS"
   ]
  },
  {
   "cell_type": "code",
   "execution_count": 63,
   "id": "6edc07b6",
   "metadata": {
    "ExecuteTime": {
     "end_time": "2022-09-02T20:31:36.698672Z",
     "start_time": "2022-09-02T20:31:36.690070Z"
    }
   },
   "outputs": [],
   "source": [
    "import math\n",
    "import inflection \n",
    "import warnings\n",
    "import mysql.connector\n",
    "\n",
    "import pandas as pd\n",
    "warnings.filterwarnings( 'ignore' )"
   ]
  },
  {
   "cell_type": "markdown",
   "id": "9e34f211",
   "metadata": {
    "heading_collapsed": true
   },
   "source": [
    "## 0.1 Establishing the connection "
   ]
  },
  {
   "cell_type": "code",
   "execution_count": 21,
   "id": "ffed8b17",
   "metadata": {
    "ExecuteTime": {
     "end_time": "2022-09-01T23:36:28.178684Z",
     "start_time": "2022-09-01T23:36:27.445233Z"
    },
    "hidden": true
   },
   "outputs": [],
   "source": [
    "conn = mysql.connector.connect(\n",
    "    user='admin', password='0WHPq8U2yJ9JgHVjsRBM', host='interview-2.ck1h5ksgzpiq.us-east-1.rds.amazonaws.com', database='innodb')"
   ]
  },
  {
   "cell_type": "markdown",
   "id": "9c3a7631",
   "metadata": {
    "heading_collapsed": true
   },
   "source": [
    "## 0.2 Reading the table Into a DataFrame"
   ]
  },
  {
   "cell_type": "code",
   "execution_count": 22,
   "id": "32c0f75f",
   "metadata": {
    "ExecuteTime": {
     "end_time": "2022-09-01T23:37:07.618327Z",
     "start_time": "2022-09-01T23:36:36.847905Z"
    },
    "hidden": true
   },
   "outputs": [],
   "source": [
    "sql_query = pd.read_sql_query('''\n",
    "                             SELECT * FROM sales_data''', \n",
    "                             conn)"
   ]
  },
  {
   "cell_type": "markdown",
   "id": "e987da66",
   "metadata": {
    "hidden": true
   },
   "source": [
    "- loading into a CSV file"
   ]
  },
  {
   "cell_type": "code",
   "execution_count": 30,
   "id": "6adb4b16",
   "metadata": {
    "ExecuteTime": {
     "end_time": "2022-09-02T00:23:21.737280Z",
     "start_time": "2022-09-02T00:23:12.805910Z"
    },
    "hidden": true
   },
   "outputs": [],
   "source": [
    "sql_query.to_csv('/Users/rromao/Desktop/Repos/Hotmart/Hotmart-Challenge/exported_data.csv', index=False)"
   ]
  },
  {
   "cell_type": "markdown",
   "id": "dac94abf",
   "metadata": {
    "heading_collapsed": true
   },
   "source": [
    "# 2 LOADING THE DATA"
   ]
  },
  {
   "cell_type": "code",
   "execution_count": 31,
   "id": "ce435ad6",
   "metadata": {
    "ExecuteTime": {
     "end_time": "2022-09-02T00:23:48.341573Z",
     "start_time": "2022-09-02T00:23:46.046028Z"
    },
    "hidden": true
   },
   "outputs": [],
   "source": [
    "df_raw = pd.read_csv('/Users/rromao/Desktop/Repos/Hotmart/Hotmart-Challenge/exported_data.csv', index=False)"
   ]
  },
  {
   "cell_type": "code",
   "execution_count": 33,
   "id": "aafcd877",
   "metadata": {
    "ExecuteTime": {
     "end_time": "2022-09-02T00:26:40.722197Z",
     "start_time": "2022-09-02T00:26:40.700547Z"
    },
    "hidden": true
   },
   "outputs": [
    {
     "data": {
      "text/html": [
       "<div>\n",
       "<style scoped>\n",
       "    .dataframe tbody tr th:only-of-type {\n",
       "        vertical-align: middle;\n",
       "    }\n",
       "\n",
       "    .dataframe tbody tr th {\n",
       "        vertical-align: top;\n",
       "    }\n",
       "\n",
       "    .dataframe thead th {\n",
       "        text-align: right;\n",
       "    }\n",
       "</style>\n",
       "<table border=\"1\" class=\"dataframe\">\n",
       "  <thead>\n",
       "    <tr style=\"text-align: right;\">\n",
       "      <th></th>\n",
       "      <th>purchase_id</th>\n",
       "      <th>product_id</th>\n",
       "      <th>affiliate_id</th>\n",
       "      <th>producer_id</th>\n",
       "      <th>buyer_id</th>\n",
       "      <th>purchase_date</th>\n",
       "      <th>product_creation_date</th>\n",
       "      <th>product_category</th>\n",
       "      <th>product_niche</th>\n",
       "      <th>purchase_value</th>\n",
       "      <th>affiliate_commission_percentual</th>\n",
       "      <th>purchase_device</th>\n",
       "      <th>purchase_origin</th>\n",
       "      <th>is_origin_page_social_network</th>\n",
       "    </tr>\n",
       "  </thead>\n",
       "  <tbody>\n",
       "    <tr>\n",
       "      <th>0</th>\n",
       "      <td>0</td>\n",
       "      <td>NaN</td>\n",
       "      <td>NaN</td>\n",
       "      <td>NaN</td>\n",
       "      <td>NaN</td>\n",
       "      <td>NaN</td>\n",
       "      <td>NaN</td>\n",
       "      <td>NaN</td>\n",
       "      <td>NaN</td>\n",
       "      <td>NaN</td>\n",
       "      <td>NaN</td>\n",
       "      <td>NaN</td>\n",
       "      <td>NaN</td>\n",
       "      <td>0</td>\n",
       "    </tr>\n",
       "    <tr>\n",
       "      <th>1</th>\n",
       "      <td>1663958</td>\n",
       "      <td>6640.0</td>\n",
       "      <td>209372.0</td>\n",
       "      <td>116238.0</td>\n",
       "      <td>1200397.0</td>\n",
       "      <td>2016-06-26 12:00:00</td>\n",
       "      <td>2011-03-19 15:47:36</td>\n",
       "      <td>Video</td>\n",
       "      <td>Presentation skills</td>\n",
       "      <td>-0.265302</td>\n",
       "      <td>NaN</td>\n",
       "      <td>Smart TV</td>\n",
       "      <td>Origin ef2b</td>\n",
       "      <td>0,0</td>\n",
       "    </tr>\n",
       "    <tr>\n",
       "      <th>2</th>\n",
       "      <td>1677087</td>\n",
       "      <td>2350.0</td>\n",
       "      <td>141418.0</td>\n",
       "      <td>2821.0</td>\n",
       "      <td>1083764.0</td>\n",
       "      <td>2016-06-26 12:00:00</td>\n",
       "      <td>2010-07-05 01:50:15</td>\n",
       "      <td>Podcast</td>\n",
       "      <td>Child psychology</td>\n",
       "      <td>-0.177077</td>\n",
       "      <td>NaN</td>\n",
       "      <td>Smart TV</td>\n",
       "      <td>Origin ef2b</td>\n",
       "      <td>0,0</td>\n",
       "    </tr>\n",
       "    <tr>\n",
       "      <th>3</th>\n",
       "      <td>2017360</td>\n",
       "      <td>35669.0</td>\n",
       "      <td>618642.0</td>\n",
       "      <td>618642.0</td>\n",
       "      <td>1436106.0</td>\n",
       "      <td>2016-06-26 12:00:00</td>\n",
       "      <td>2012-06-13 02:59:37</td>\n",
       "      <td>Podcast</td>\n",
       "      <td>Presentation skills</td>\n",
       "      <td>-0.468989</td>\n",
       "      <td>NaN</td>\n",
       "      <td>Smart TV</td>\n",
       "      <td>Origin ef2b</td>\n",
       "      <td>0,0</td>\n",
       "    </tr>\n",
       "    <tr>\n",
       "      <th>4</th>\n",
       "      <td>2017379</td>\n",
       "      <td>57998.0</td>\n",
       "      <td>1164511.0</td>\n",
       "      <td>70388.0</td>\n",
       "      <td>1436118.0</td>\n",
       "      <td>2016-06-26 12:00:00</td>\n",
       "      <td>2013-05-07 08:51:31</td>\n",
       "      <td>Podcast</td>\n",
       "      <td>Anxiety management</td>\n",
       "      <td>-0.401168</td>\n",
       "      <td>NaN</td>\n",
       "      <td>Smart TV</td>\n",
       "      <td>Origin ef2b</td>\n",
       "      <td>0,0</td>\n",
       "    </tr>\n",
       "  </tbody>\n",
       "</table>\n",
       "</div>"
      ],
      "text/plain": [
       "   purchase_id  product_id  affiliate_id  producer_id   buyer_id  \\\n",
       "0            0         NaN           NaN          NaN        NaN   \n",
       "1      1663958      6640.0      209372.0     116238.0  1200397.0   \n",
       "2      1677087      2350.0      141418.0       2821.0  1083764.0   \n",
       "3      2017360     35669.0      618642.0     618642.0  1436106.0   \n",
       "4      2017379     57998.0     1164511.0      70388.0  1436118.0   \n",
       "\n",
       "         purchase_date product_creation_date product_category  \\\n",
       "0                  NaN                   NaN              NaN   \n",
       "1  2016-06-26 12:00:00   2011-03-19 15:47:36            Video   \n",
       "2  2016-06-26 12:00:00   2010-07-05 01:50:15          Podcast   \n",
       "3  2016-06-26 12:00:00   2012-06-13 02:59:37          Podcast   \n",
       "4  2016-06-26 12:00:00   2013-05-07 08:51:31          Podcast   \n",
       "\n",
       "         product_niche  purchase_value  affiliate_commission_percentual  \\\n",
       "0                  NaN             NaN                              NaN   \n",
       "1  Presentation skills       -0.265302                              NaN   \n",
       "2     Child psychology       -0.177077                              NaN   \n",
       "3  Presentation skills       -0.468989                              NaN   \n",
       "4   Anxiety management       -0.401168                              NaN   \n",
       "\n",
       "  purchase_device purchase_origin is_origin_page_social_network  \n",
       "0             NaN             NaN                             0  \n",
       "1        Smart TV     Origin ef2b                           0,0  \n",
       "2        Smart TV     Origin ef2b                           0,0  \n",
       "3        Smart TV     Origin ef2b                           0,0  \n",
       "4        Smart TV     Origin ef2b                           0,0  "
      ]
     },
     "execution_count": 33,
     "metadata": {},
     "output_type": "execute_result"
    }
   ],
   "source": [
    "df_raw.head(5)"
   ]
  },
  {
   "cell_type": "markdown",
   "id": "a9cce1cf",
   "metadata": {},
   "source": [
    "# 3.0 STEP 01 - DATA DESCRIPTION"
   ]
  },
  {
   "cell_type": "code",
   "execution_count": 34,
   "id": "eca5a76f",
   "metadata": {
    "ExecuteTime": {
     "end_time": "2022-09-02T19:23:45.803125Z",
     "start_time": "2022-09-02T19:23:45.736043Z"
    }
   },
   "outputs": [],
   "source": [
    "# Criando uma cópia para manipular a cópia do dado sem alterar \n",
    "# o Dataset Original \n",
    "\n",
    "df1 = df_raw.copy()"
   ]
  },
  {
   "cell_type": "markdown",
   "id": "8b821842",
   "metadata": {
    "heading_collapsed": true
   },
   "source": [
    "## 1.1 Rename Columns"
   ]
  },
  {
   "cell_type": "code",
   "execution_count": 37,
   "id": "6e9e1281",
   "metadata": {
    "ExecuteTime": {
     "end_time": "2022-09-02T19:29:01.653180Z",
     "start_time": "2022-09-02T19:29:01.641284Z"
    },
    "hidden": true
   },
   "outputs": [
    {
     "data": {
      "text/plain": [
       "Index(['purchase_id', 'product_id', 'affiliate_id', 'producer_id', 'buyer_id',\n",
       "       'purchase_date', 'product_creation_date', 'product_category',\n",
       "       'product_niche', 'purchase_value', 'affiliate_commission_percentual',\n",
       "       'purchase_device', 'purchase_origin', 'is_origin_page_social_network'],\n",
       "      dtype='object')"
      ]
     },
     "execution_count": 37,
     "metadata": {},
     "output_type": "execute_result"
    }
   ],
   "source": [
    "df1.columns "
   ]
  },
  {
   "cell_type": "code",
   "execution_count": 39,
   "id": "2bce1191",
   "metadata": {
    "ExecuteTime": {
     "end_time": "2022-09-02T19:32:27.674214Z",
     "start_time": "2022-09-02T19:32:27.664171Z"
    },
    "hidden": true
   },
   "outputs": [],
   "source": [
    "cols_old = ['purchase_id', 'product_id', 'affiliate_id', 'producer_id', 'buyer_id',\n",
    "       'purchase_date', 'product_creation_date', 'product_category',\n",
    "       'product_niche', 'purchase_value', 'affiliate_commission_percentual',\n",
    "       'purchase_device', 'purchase_origin', 'is_origin_page_social_network']\n",
    "\n",
    "snakecase = lambda x: inflection.underscore( x )\n",
    "\n",
    "cols_new = list( map( snakecase, cols_old ) )"
   ]
  },
  {
   "cell_type": "code",
   "execution_count": 43,
   "id": "ffff2d66",
   "metadata": {
    "ExecuteTime": {
     "end_time": "2022-09-02T19:38:23.408896Z",
     "start_time": "2022-09-02T19:38:23.401860Z"
    },
    "hidden": true
   },
   "outputs": [],
   "source": [
    "# Renomeando as colunas utilizando a Biblioteca Inflection\n",
    "# - Ela é uma biblioteca de transformação de Strings.\n",
    "# - Ela regulariza e pluraliza palavras em inglês e transforma strings de CamelCase para Underscore\n",
    "\n",
    "df1.columns = cols_new"
   ]
  },
  {
   "cell_type": "markdown",
   "id": "533333b7",
   "metadata": {
    "hidden": true
   },
   "source": []
  },
  {
   "cell_type": "markdown",
   "id": "fca12e69",
   "metadata": {
    "ExecuteTime": {
     "end_time": "2022-09-02T19:44:15.506451Z",
     "start_time": "2022-09-02T19:44:15.503712Z"
    },
    "heading_collapsed": true
   },
   "source": [
    "## 1.2 Data Dimensions"
   ]
  },
  {
   "cell_type": "code",
   "execution_count": 47,
   "id": "4a2f4ab4",
   "metadata": {
    "ExecuteTime": {
     "end_time": "2022-09-02T20:12:18.757994Z",
     "start_time": "2022-09-02T20:12:18.752136Z"
    },
    "hidden": true
   },
   "outputs": [
    {
     "name": "stdout",
     "output_type": "stream",
     "text": [
      "Número de Linhas: 1599829\n",
      "Número de Colunas: 14\n"
     ]
    }
   ],
   "source": [
    "print( 'Número de Linhas: {}'.format( df1.shape[0] ) )\n",
    "print( 'Número de Colunas: {}'.format( df1.shape[1] ) )"
   ]
  },
  {
   "cell_type": "markdown",
   "id": "76f6df36",
   "metadata": {
    "heading_collapsed": true
   },
   "source": [
    "## 1.3 Data Types"
   ]
  },
  {
   "cell_type": "code",
   "execution_count": 84,
   "id": "1133111c",
   "metadata": {
    "ExecuteTime": {
     "end_time": "2022-09-02T21:06:41.485269Z",
     "start_time": "2022-09-02T21:06:41.476631Z"
    },
    "hidden": true
   },
   "outputs": [
    {
     "data": {
      "text/plain": [
       "purchase_id                          int64\n",
       "product_id                         float64\n",
       "affiliate_id                       float64\n",
       "producer_id                        float64\n",
       "buyer_id                           float64\n",
       "purchase_date                       object\n",
       "product_creation_date               object\n",
       "product_category                    object\n",
       "product_niche                       object\n",
       "purchase_value                     float64\n",
       "affiliate_commission_percentual    float64\n",
       "purchase_device                     object\n",
       "purchase_origin                     object\n",
       "is_origin_page_social_network       object\n",
       "purchase_date_year                  object\n",
       "purchase_date_month                 object\n",
       "dtype: object"
      ]
     },
     "execution_count": 84,
     "metadata": {},
     "output_type": "execute_result"
    }
   ],
   "source": [
    "df1.dtypes"
   ]
  },
  {
   "cell_type": "markdown",
   "id": "2a89d61e",
   "metadata": {
    "heading_collapsed": true
   },
   "source": [
    "## 1.4 Check NA"
   ]
  },
  {
   "cell_type": "code",
   "execution_count": 50,
   "id": "956768f5",
   "metadata": {
    "ExecuteTime": {
     "end_time": "2022-09-02T20:13:44.657753Z",
     "start_time": "2022-09-02T20:13:43.807912Z"
    },
    "hidden": true
   },
   "outputs": [
    {
     "data": {
      "text/plain": [
       "purchase_id                          0\n",
       "product_id                           1\n",
       "affiliate_id                         1\n",
       "producer_id                          1\n",
       "buyer_id                             1\n",
       "purchase_date                        1\n",
       "product_creation_date                1\n",
       "product_category                     1\n",
       "product_niche                        1\n",
       "purchase_value                       1\n",
       "affiliate_commission_percentual    200\n",
       "purchase_device                      1\n",
       "purchase_origin                      1\n",
       "is_origin_page_social_network        0\n",
       "dtype: int64"
      ]
     },
     "execution_count": 50,
     "metadata": {},
     "output_type": "execute_result"
    }
   ],
   "source": [
    "df1.isna().sum()"
   ]
  },
  {
   "cell_type": "markdown",
   "id": "3e684eca",
   "metadata": {
    "heading_collapsed": true
   },
   "source": [
    "## 1.5 Fillout NA"
   ]
  },
  {
   "cell_type": "code",
   "execution_count": 78,
   "id": "54a1ae66",
   "metadata": {
    "ExecuteTime": {
     "end_time": "2022-09-02T20:58:07.050433Z",
     "start_time": "2022-09-02T20:58:07.024866Z"
    },
    "hidden": true
   },
   "outputs": [
    {
     "data": {
      "text/html": [
       "<div>\n",
       "<style scoped>\n",
       "    .dataframe tbody tr th:only-of-type {\n",
       "        vertical-align: middle;\n",
       "    }\n",
       "\n",
       "    .dataframe tbody tr th {\n",
       "        vertical-align: top;\n",
       "    }\n",
       "\n",
       "    .dataframe thead th {\n",
       "        text-align: right;\n",
       "    }\n",
       "</style>\n",
       "<table border=\"1\" class=\"dataframe\">\n",
       "  <thead>\n",
       "    <tr style=\"text-align: right;\">\n",
       "      <th></th>\n",
       "      <th>purchase_id</th>\n",
       "      <th>product_id</th>\n",
       "      <th>affiliate_id</th>\n",
       "      <th>producer_id</th>\n",
       "      <th>buyer_id</th>\n",
       "      <th>purchase_date</th>\n",
       "      <th>product_creation_date</th>\n",
       "      <th>product_category</th>\n",
       "      <th>product_niche</th>\n",
       "      <th>purchase_value</th>\n",
       "      <th>affiliate_commission_percentual</th>\n",
       "      <th>purchase_device</th>\n",
       "      <th>purchase_origin</th>\n",
       "      <th>is_origin_page_social_network</th>\n",
       "      <th>purchase_date_year</th>\n",
       "      <th>purchase_date_month</th>\n",
       "    </tr>\n",
       "  </thead>\n",
       "  <tbody>\n",
       "    <tr>\n",
       "      <th>0</th>\n",
       "      <td>0</td>\n",
       "      <td>0.0</td>\n",
       "      <td>0.0</td>\n",
       "      <td>0.0</td>\n",
       "      <td>0.0</td>\n",
       "      <td>0</td>\n",
       "      <td>0</td>\n",
       "      <td>0</td>\n",
       "      <td>0</td>\n",
       "      <td>0.000000</td>\n",
       "      <td>0.0</td>\n",
       "      <td>0</td>\n",
       "      <td>0</td>\n",
       "      <td>0</td>\n",
       "      <td></td>\n",
       "      <td></td>\n",
       "    </tr>\n",
       "    <tr>\n",
       "      <th>1</th>\n",
       "      <td>1663958</td>\n",
       "      <td>6640.0</td>\n",
       "      <td>209372.0</td>\n",
       "      <td>116238.0</td>\n",
       "      <td>1200397.0</td>\n",
       "      <td>2016-06-26 12:00:00</td>\n",
       "      <td>2011-03-19 15:47:36</td>\n",
       "      <td>Video</td>\n",
       "      <td>Presentation skills</td>\n",
       "      <td>-0.265302</td>\n",
       "      <td>0.0</td>\n",
       "      <td>Smart TV</td>\n",
       "      <td>Origin ef2b</td>\n",
       "      <td>0,0</td>\n",
       "      <td></td>\n",
       "      <td></td>\n",
       "    </tr>\n",
       "    <tr>\n",
       "      <th>2</th>\n",
       "      <td>1677087</td>\n",
       "      <td>2350.0</td>\n",
       "      <td>141418.0</td>\n",
       "      <td>2821.0</td>\n",
       "      <td>1083764.0</td>\n",
       "      <td>2016-06-26 12:00:00</td>\n",
       "      <td>2010-07-05 01:50:15</td>\n",
       "      <td>Podcast</td>\n",
       "      <td>Child psychology</td>\n",
       "      <td>-0.177077</td>\n",
       "      <td>0.0</td>\n",
       "      <td>Smart TV</td>\n",
       "      <td>Origin ef2b</td>\n",
       "      <td>0,0</td>\n",
       "      <td></td>\n",
       "      <td></td>\n",
       "    </tr>\n",
       "    <tr>\n",
       "      <th>3</th>\n",
       "      <td>2017360</td>\n",
       "      <td>35669.0</td>\n",
       "      <td>618642.0</td>\n",
       "      <td>618642.0</td>\n",
       "      <td>1436106.0</td>\n",
       "      <td>2016-06-26 12:00:00</td>\n",
       "      <td>2012-06-13 02:59:37</td>\n",
       "      <td>Podcast</td>\n",
       "      <td>Presentation skills</td>\n",
       "      <td>-0.468989</td>\n",
       "      <td>0.0</td>\n",
       "      <td>Smart TV</td>\n",
       "      <td>Origin ef2b</td>\n",
       "      <td>0,0</td>\n",
       "      <td></td>\n",
       "      <td></td>\n",
       "    </tr>\n",
       "    <tr>\n",
       "      <th>4</th>\n",
       "      <td>2017379</td>\n",
       "      <td>57998.0</td>\n",
       "      <td>1164511.0</td>\n",
       "      <td>70388.0</td>\n",
       "      <td>1436118.0</td>\n",
       "      <td>2016-06-26 12:00:00</td>\n",
       "      <td>2013-05-07 08:51:31</td>\n",
       "      <td>Podcast</td>\n",
       "      <td>Anxiety management</td>\n",
       "      <td>-0.401168</td>\n",
       "      <td>0.0</td>\n",
       "      <td>Smart TV</td>\n",
       "      <td>Origin ef2b</td>\n",
       "      <td>0,0</td>\n",
       "      <td></td>\n",
       "      <td></td>\n",
       "    </tr>\n",
       "  </tbody>\n",
       "</table>\n",
       "</div>"
      ],
      "text/plain": [
       "   purchase_id  product_id  affiliate_id  producer_id   buyer_id  \\\n",
       "0            0         0.0           0.0          0.0        0.0   \n",
       "1      1663958      6640.0      209372.0     116238.0  1200397.0   \n",
       "2      1677087      2350.0      141418.0       2821.0  1083764.0   \n",
       "3      2017360     35669.0      618642.0     618642.0  1436106.0   \n",
       "4      2017379     57998.0     1164511.0      70388.0  1436118.0   \n",
       "\n",
       "         purchase_date product_creation_date product_category  \\\n",
       "0                    0                     0                0   \n",
       "1  2016-06-26 12:00:00   2011-03-19 15:47:36            Video   \n",
       "2  2016-06-26 12:00:00   2010-07-05 01:50:15          Podcast   \n",
       "3  2016-06-26 12:00:00   2012-06-13 02:59:37          Podcast   \n",
       "4  2016-06-26 12:00:00   2013-05-07 08:51:31          Podcast   \n",
       "\n",
       "         product_niche  purchase_value  affiliate_commission_percentual  \\\n",
       "0                    0        0.000000                              0.0   \n",
       "1  Presentation skills       -0.265302                              0.0   \n",
       "2     Child psychology       -0.177077                              0.0   \n",
       "3  Presentation skills       -0.468989                              0.0   \n",
       "4   Anxiety management       -0.401168                              0.0   \n",
       "\n",
       "  purchase_device purchase_origin is_origin_page_social_network  \\\n",
       "0               0               0                             0   \n",
       "1        Smart TV     Origin ef2b                           0,0   \n",
       "2        Smart TV     Origin ef2b                           0,0   \n",
       "3        Smart TV     Origin ef2b                           0,0   \n",
       "4        Smart TV     Origin ef2b                           0,0   \n",
       "\n",
       "  purchase_date_year purchase_date_month  \n",
       "0                                         \n",
       "1                                         \n",
       "2                                         \n",
       "3                                         \n",
       "4                                         "
      ]
     },
     "execution_count": 78,
     "metadata": {},
     "output_type": "execute_result"
    }
   ],
   "source": [
    "df1.head(5)"
   ]
  },
  {
   "cell_type": "code",
   "execution_count": 79,
   "id": "4a1ef0f3",
   "metadata": {
    "ExecuteTime": {
     "end_time": "2022-09-02T20:58:15.954251Z",
     "start_time": "2022-09-02T20:58:15.783137Z"
    },
    "hidden": true
   },
   "outputs": [],
   "source": [
    "df1['product_id'].fillna(0, inplace=True)\n",
    "df1['affiliate_id'].fillna(0, inplace=True)\n",
    "df1['producer_id'].fillna(0, inplace=True)\n",
    "df1['buyer_id'].fillna(0, inplace=True)\n",
    "df1['product_category'].fillna(0, inplace=True)\n",
    "df1['product_niche'].fillna(0, inplace=True)\n",
    "df1['purchase_value'].fillna(0, inplace=True)\n",
    "df1['affiliate_commission_percentual'].fillna(0, inplace=True)\n",
    "df1['purchase_device'].fillna(0, inplace=True)\n",
    "df1['purchase_origin'].fillna(0, inplace=True)\n"
   ]
  },
  {
   "cell_type": "code",
   "execution_count": 68,
   "id": "d2c59bdc",
   "metadata": {
    "ExecuteTime": {
     "end_time": "2022-09-02T20:41:15.158758Z",
     "start_time": "2022-09-02T20:41:12.435630Z"
    },
    "hidden": true
   },
   "outputs": [],
   "source": [
    "df1['purchase_date'].fillna(0, inplace=True)\n",
    "df1['product_creation_date'].fillna(0, inplace=True)"
   ]
  },
  {
   "cell_type": "code",
   "execution_count": 69,
   "id": "65f790a7",
   "metadata": {
    "ExecuteTime": {
     "end_time": "2022-09-02T20:41:25.197363Z",
     "start_time": "2022-09-02T20:41:24.288670Z"
    },
    "hidden": true
   },
   "outputs": [
    {
     "data": {
      "text/plain": [
       "purchase_id                        0\n",
       "product_id                         0\n",
       "affiliate_id                       0\n",
       "producer_id                        0\n",
       "buyer_id                           0\n",
       "purchase_date                      0\n",
       "product_creation_date              0\n",
       "product_category                   0\n",
       "product_niche                      0\n",
       "purchase_value                     0\n",
       "affiliate_commission_percentual    0\n",
       "purchase_device                    0\n",
       "purchase_origin                    0\n",
       "is_origin_page_social_network      0\n",
       "dtype: int64"
      ]
     },
     "execution_count": 69,
     "metadata": {},
     "output_type": "execute_result"
    }
   ],
   "source": [
    "df1.isna().sum()"
   ]
  },
  {
   "cell_type": "markdown",
   "id": "c2149dac",
   "metadata": {
    "heading_collapsed": true
   },
   "source": [
    "## 1.6 Change Data Types"
   ]
  },
  {
   "cell_type": "code",
   "execution_count": 88,
   "id": "1af85eef",
   "metadata": {
    "ExecuteTime": {
     "end_time": "2022-09-02T21:09:36.514905Z",
     "start_time": "2022-09-02T21:09:32.661554Z"
    },
    "hidden": true
   },
   "outputs": [],
   "source": [
    "df1['purchase_date'] = pd.to_datetime(df1['purchase_date'], errors='coerce')\n",
    "df1['product_creation_date'] = pd.to_datetime(df1['product_creation_date'], errors='coerce')"
   ]
  },
  {
   "cell_type": "code",
   "execution_count": 99,
   "id": "5ad13334",
   "metadata": {
    "ExecuteTime": {
     "end_time": "2022-09-02T21:44:02.511783Z",
     "start_time": "2022-09-02T21:44:02.505413Z"
    },
    "hidden": true
   },
   "outputs": [
    {
     "data": {
      "text/plain": [
       "purchase_id                                 int64\n",
       "product_id                                float64\n",
       "affiliate_id                              float64\n",
       "producer_id                               float64\n",
       "buyer_id                                  float64\n",
       "purchase_date                      datetime64[ns]\n",
       "product_creation_date              datetime64[ns]\n",
       "product_category                           object\n",
       "product_niche                              object\n",
       "purchase_value                            float64\n",
       "affiliate_commission_percentual           float64\n",
       "purchase_device                            object\n",
       "purchase_origin                            object\n",
       "is_origin_page_social_network              object\n",
       "dtype: object"
      ]
     },
     "execution_count": 99,
     "metadata": {},
     "output_type": "execute_result"
    }
   ],
   "source": [
    "df1.dtypes"
   ]
  },
  {
   "cell_type": "code",
   "execution_count": 103,
   "id": "7d94672a",
   "metadata": {
    "ExecuteTime": {
     "end_time": "2022-09-04T03:56:12.839882Z",
     "start_time": "2022-09-04T03:56:12.709726Z"
    },
    "hidden": true
   },
   "outputs": [],
   "source": [
    "df1['product_id'] = df1['product_id'].astype( int )\n",
    "df1['affiliate_id'] = df1['affiliate_id'].astype( int )\n",
    "df1['producer_id'] = df1['producer_id'].astype( int )\n",
    "df1['buyer_id'] = df1['buyer_id'].astype( int )"
   ]
  },
  {
   "cell_type": "markdown",
   "id": "815303ad",
   "metadata": {},
   "source": [
    "## 1.7 Descriptive Statistics"
   ]
  },
  {
   "cell_type": "code",
   "execution_count": null,
   "id": "3e58e7f8",
   "metadata": {},
   "outputs": [],
   "source": []
  },
  {
   "cell_type": "code",
   "execution_count": null,
   "id": "5b3ec004",
   "metadata": {},
   "outputs": [],
   "source": []
  },
  {
   "cell_type": "code",
   "execution_count": 98,
   "id": "f95d250e",
   "metadata": {
    "ExecuteTime": {
     "end_time": "2022-09-02T21:43:43.130991Z",
     "start_time": "2022-09-02T21:43:43.125214Z"
    }
   },
   "outputs": [
    {
     "data": {
      "text/html": [
       "<div>\n",
       "<style scoped>\n",
       "    .dataframe tbody tr th:only-of-type {\n",
       "        vertical-align: middle;\n",
       "    }\n",
       "\n",
       "    .dataframe tbody tr th {\n",
       "        vertical-align: top;\n",
       "    }\n",
       "\n",
       "    .dataframe thead th {\n",
       "        text-align: right;\n",
       "    }\n",
       "</style>\n",
       "<table border=\"1\" class=\"dataframe\">\n",
       "  <thead>\n",
       "    <tr style=\"text-align: right;\">\n",
       "      <th></th>\n",
       "      <th>purchase_id</th>\n",
       "      <th>product_id</th>\n",
       "      <th>affiliate_id</th>\n",
       "      <th>producer_id</th>\n",
       "      <th>buyer_id</th>\n",
       "      <th>purchase_date</th>\n",
       "      <th>product_creation_date</th>\n",
       "      <th>product_category</th>\n",
       "      <th>product_niche</th>\n",
       "      <th>purchase_value</th>\n",
       "      <th>affiliate_commission_percentual</th>\n",
       "      <th>purchase_device</th>\n",
       "      <th>purchase_origin</th>\n",
       "      <th>is_origin_page_social_network</th>\n",
       "    </tr>\n",
       "  </thead>\n",
       "  <tbody>\n",
       "    <tr>\n",
       "      <th>0</th>\n",
       "      <td>0</td>\n",
       "      <td>0.0</td>\n",
       "      <td>0.0</td>\n",
       "      <td>0.0</td>\n",
       "      <td>0.0</td>\n",
       "      <td>NaT</td>\n",
       "      <td>NaT</td>\n",
       "      <td>0</td>\n",
       "      <td>0</td>\n",
       "      <td>0.000000</td>\n",
       "      <td>0.0</td>\n",
       "      <td>0</td>\n",
       "      <td>0</td>\n",
       "      <td>0</td>\n",
       "    </tr>\n",
       "    <tr>\n",
       "      <th>1</th>\n",
       "      <td>1663958</td>\n",
       "      <td>6640.0</td>\n",
       "      <td>209372.0</td>\n",
       "      <td>116238.0</td>\n",
       "      <td>1200397.0</td>\n",
       "      <td>2016-06-26 12:00:00</td>\n",
       "      <td>2011-03-19 15:47:36</td>\n",
       "      <td>Video</td>\n",
       "      <td>Presentation skills</td>\n",
       "      <td>-0.265302</td>\n",
       "      <td>0.0</td>\n",
       "      <td>Smart TV</td>\n",
       "      <td>Origin ef2b</td>\n",
       "      <td>0,0</td>\n",
       "    </tr>\n",
       "    <tr>\n",
       "      <th>2</th>\n",
       "      <td>1677087</td>\n",
       "      <td>2350.0</td>\n",
       "      <td>141418.0</td>\n",
       "      <td>2821.0</td>\n",
       "      <td>1083764.0</td>\n",
       "      <td>2016-06-26 12:00:00</td>\n",
       "      <td>2010-07-05 01:50:15</td>\n",
       "      <td>Podcast</td>\n",
       "      <td>Child psychology</td>\n",
       "      <td>-0.177077</td>\n",
       "      <td>0.0</td>\n",
       "      <td>Smart TV</td>\n",
       "      <td>Origin ef2b</td>\n",
       "      <td>0,0</td>\n",
       "    </tr>\n",
       "    <tr>\n",
       "      <th>3</th>\n",
       "      <td>2017360</td>\n",
       "      <td>35669.0</td>\n",
       "      <td>618642.0</td>\n",
       "      <td>618642.0</td>\n",
       "      <td>1436106.0</td>\n",
       "      <td>2016-06-26 12:00:00</td>\n",
       "      <td>2012-06-13 02:59:37</td>\n",
       "      <td>Podcast</td>\n",
       "      <td>Presentation skills</td>\n",
       "      <td>-0.468989</td>\n",
       "      <td>0.0</td>\n",
       "      <td>Smart TV</td>\n",
       "      <td>Origin ef2b</td>\n",
       "      <td>0,0</td>\n",
       "    </tr>\n",
       "    <tr>\n",
       "      <th>4</th>\n",
       "      <td>2017379</td>\n",
       "      <td>57998.0</td>\n",
       "      <td>1164511.0</td>\n",
       "      <td>70388.0</td>\n",
       "      <td>1436118.0</td>\n",
       "      <td>2016-06-26 12:00:00</td>\n",
       "      <td>2013-05-07 08:51:31</td>\n",
       "      <td>Podcast</td>\n",
       "      <td>Anxiety management</td>\n",
       "      <td>-0.401168</td>\n",
       "      <td>0.0</td>\n",
       "      <td>Smart TV</td>\n",
       "      <td>Origin ef2b</td>\n",
       "      <td>0,0</td>\n",
       "    </tr>\n",
       "  </tbody>\n",
       "</table>\n",
       "</div>"
      ],
      "text/plain": [
       "   purchase_id  product_id  affiliate_id  producer_id   buyer_id  \\\n",
       "0            0         0.0           0.0          0.0        0.0   \n",
       "1      1663958      6640.0      209372.0     116238.0  1200397.0   \n",
       "2      1677087      2350.0      141418.0       2821.0  1083764.0   \n",
       "3      2017360     35669.0      618642.0     618642.0  1436106.0   \n",
       "4      2017379     57998.0     1164511.0      70388.0  1436118.0   \n",
       "\n",
       "        purchase_date product_creation_date product_category  \\\n",
       "0                 NaT                   NaT                0   \n",
       "1 2016-06-26 12:00:00   2011-03-19 15:47:36            Video   \n",
       "2 2016-06-26 12:00:00   2010-07-05 01:50:15          Podcast   \n",
       "3 2016-06-26 12:00:00   2012-06-13 02:59:37          Podcast   \n",
       "4 2016-06-26 12:00:00   2013-05-07 08:51:31          Podcast   \n",
       "\n",
       "         product_niche  purchase_value  affiliate_commission_percentual  \\\n",
       "0                    0        0.000000                              0.0   \n",
       "1  Presentation skills       -0.265302                              0.0   \n",
       "2     Child psychology       -0.177077                              0.0   \n",
       "3  Presentation skills       -0.468989                              0.0   \n",
       "4   Anxiety management       -0.401168                              0.0   \n",
       "\n",
       "  purchase_device purchase_origin is_origin_page_social_network  \n",
       "0               0               0                             0  \n",
       "1        Smart TV     Origin ef2b                           0,0  \n",
       "2        Smart TV     Origin ef2b                           0,0  \n",
       "3        Smart TV     Origin ef2b                           0,0  \n",
       "4        Smart TV     Origin ef2b                           0,0  "
      ]
     },
     "execution_count": 98,
     "metadata": {},
     "output_type": "execute_result"
    }
   ],
   "source": [
    "df1.head(5)"
   ]
  },
  {
   "cell_type": "code",
   "execution_count": null,
   "id": "46d3f68c",
   "metadata": {},
   "outputs": [],
   "source": [
    "df1['purchase_date'].dropnao"
   ]
  },
  {
   "cell_type": "code",
   "execution_count": 97,
   "id": "03f45220",
   "metadata": {
    "ExecuteTime": {
     "end_time": "2022-09-02T21:43:37.323982Z",
     "start_time": "2022-09-02T21:43:37.200828Z"
    }
   },
   "outputs": [],
   "source": [
    "cols_drop = ['purchase_date_year', 'purchase_date_month']\n",
    "df1 = df1.drop(cols_drop, axis=1)"
   ]
  },
  {
   "cell_type": "code",
   "execution_count": null,
   "id": "4510c646",
   "metadata": {},
   "outputs": [],
   "source": []
  },
  {
   "cell_type": "code",
   "execution_count": null,
   "id": "e4e090dd",
   "metadata": {},
   "outputs": [],
   "source": []
  },
  {
   "cell_type": "code",
   "execution_count": null,
   "id": "b0b173cb",
   "metadata": {},
   "outputs": [],
   "source": []
  },
  {
   "cell_type": "code",
   "execution_count": null,
   "id": "e57b4a72",
   "metadata": {},
   "outputs": [],
   "source": []
  },
  {
   "cell_type": "code",
   "execution_count": null,
   "id": "e784cb14",
   "metadata": {},
   "outputs": [],
   "source": []
  },
  {
   "cell_type": "code",
   "execution_count": null,
   "id": "7389d1c7",
   "metadata": {},
   "outputs": [],
   "source": []
  },
  {
   "cell_type": "code",
   "execution_count": null,
   "id": "8ef715f4",
   "metadata": {},
   "outputs": [],
   "source": []
  },
  {
   "cell_type": "code",
   "execution_count": null,
   "id": "48e344f9",
   "metadata": {},
   "outputs": [],
   "source": []
  },
  {
   "cell_type": "code",
   "execution_count": null,
   "id": "2003971d",
   "metadata": {},
   "outputs": [],
   "source": []
  },
  {
   "cell_type": "code",
   "execution_count": null,
   "id": "6209f282",
   "metadata": {},
   "outputs": [],
   "source": []
  },
  {
   "cell_type": "code",
   "execution_count": null,
   "id": "66470db7",
   "metadata": {},
   "outputs": [],
   "source": []
  },
  {
   "cell_type": "code",
   "execution_count": null,
   "id": "2ec303ed",
   "metadata": {},
   "outputs": [],
   "source": []
  }
 ],
 "metadata": {
  "hide_input": false,
  "kernelspec": {
   "display_name": "Python 3 (ipykernel)",
   "language": "python",
   "name": "python3"
  },
  "language_info": {
   "codemirror_mode": {
    "name": "ipython",
    "version": 3
   },
   "file_extension": ".py",
   "mimetype": "text/x-python",
   "name": "python",
   "nbconvert_exporter": "python",
   "pygments_lexer": "ipython3",
   "version": "3.9.5"
  },
  "varInspector": {
   "cols": {
    "lenName": 16,
    "lenType": 16,
    "lenVar": 40
   },
   "kernels_config": {
    "python": {
     "delete_cmd_postfix": "",
     "delete_cmd_prefix": "del ",
     "library": "var_list.py",
     "varRefreshCmd": "print(var_dic_list())"
    },
    "r": {
     "delete_cmd_postfix": ") ",
     "delete_cmd_prefix": "rm(",
     "library": "var_list.r",
     "varRefreshCmd": "cat(var_dic_list()) "
    }
   },
   "types_to_exclude": [
    "module",
    "function",
    "builtin_function_or_method",
    "instance",
    "_Feature"
   ],
   "window_display": false
  }
 },
 "nbformat": 4,
 "nbformat_minor": 5
}
