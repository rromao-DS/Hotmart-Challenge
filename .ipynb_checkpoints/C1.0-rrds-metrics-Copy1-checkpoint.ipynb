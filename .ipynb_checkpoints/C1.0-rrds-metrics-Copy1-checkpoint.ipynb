{
 "cells": [
  {
   "cell_type": "markdown",
   "id": "d923d19d",
   "metadata": {},
   "source": [
    "# Hotmart - Data Analyst Challenge"
   ]
  },
  {
   "cell_type": "markdown",
   "id": "ed10925b",
   "metadata": {},
   "source": [
    "# Planejamento da Solução (IOT)"
   ]
  },
  {
   "cell_type": "markdown",
   "id": "80884c14",
   "metadata": {
    "ExecuteTime": {
     "end_time": "2022-09-04T04:43:54.269193Z",
     "start_time": "2022-09-04T04:43:54.266604Z"
    }
   },
   "source": [
    "## Input "
   ]
  },
  {
   "cell_type": "markdown",
   "id": "ac7b6f44",
   "metadata": {},
   "source": [
    " Sua tarefa será gerar Insights sobre os dados no dataset que disponibilizamos. Não existe uma forma única de chegar a uma solução, nem um número mínimo ou máximo de insights para serem gerados, mas, separamos algumas perguntas que seriam interessantes de serem respondidas:\n",
    " \n",
    "1. A Hotmart depende dos maiores produtores da plataforma? Ou seja, os produtores que mais vendem são responsáveis pela maior parte do faturamento da Hotmart?\n",
    "2. Existe algum padrão ou tendência relevante nos dados?\n",
    "3. Há épocas do ano em que uma determinada categoria ou nicho de produto\n",
    "vende mais?\n",
    "4. Se tivéssemos que fazer uma campanha de Marketing incentivar mais\n",
    "pessoas a criarem produtos em um determinado nicho, qual nicho seria esse?\n",
    "5. Quem são os melhores clientes?\n",
    "6. Quais clientes estão proximos do churn?\n",
    "7. Quais os potenciais clientes para entrar no programa de fidelização?\n",
    "8. Quais clientes precisam ser retidos?\n",
    "9. Quais clientes mais prováveis de responder as campanhas de marketing?"
   ]
  },
  {
   "cell_type": "markdown",
   "id": "ffb687c2",
   "metadata": {
    "ExecuteTime": {
     "end_time": "2022-09-04T04:47:39.135998Z",
     "start_time": "2022-09-04T04:47:39.132767Z"
    },
    "heading_collapsed": true
   },
   "source": [
    "## Output"
   ]
  },
  {
   "cell_type": "markdown",
   "id": "d959ef03",
   "metadata": {
    "hidden": true
   },
   "source": [
    "* Ferramentas:\n",
    "    - Metabase\n",
    "    - StreamLit\n",
    "* URL para o time de operação testar\n",
    "* Download dos dados selecionados"
   ]
  },
  {
   "cell_type": "markdown",
   "id": "eb48ec97",
   "metadata": {
    "heading_collapsed": true
   },
   "source": [
    "## Tasks"
   ]
  },
  {
   "cell_type": "code",
   "execution_count": null,
   "id": "d27ac16e",
   "metadata": {
    "hidden": true
   },
   "outputs": [],
   "source": [
    "* Descrição dos dados:\n",
    "    - Substituição de NA's.\n",
    "   \n",
    "* EDA:\n",
    "    - Análise Univariada\n",
    "    - Análise Bivariada\n",
    "    - Detecção de Outliers\n",
    "    - Seleção de Features\n",
    "    - Estudo do Espaço\n",
    "    - Definição do Embedding\n",
    "* Treinamento dos Algoritimos de ML:\n",
    "    - Análise de Performance.\n",
    "    - Análise de Clustering\n",
    "    - Definição dos números de clustering.\n",
    "* EDA - Insights:\n",
    "    - Explicação das características dos segmentos.\n",
    "* Tabela para armazenar os clientes clusterizados.\n",
    "* Criação do notebook de produção \n",
    "* Arquitetura da AWS:\n",
    "    - S3 para armazenar os dados\n",
    "    - EC2 para armazenar o etl e a ferramenta de visualização \n",
    "    - DB para armazenar a tabela\n",
    "    - Cronjob \n",
    "    - Papermill"
   ]
  },
  {
   "cell_type": "code",
   "execution_count": null,
   "id": "6b2b2bd8",
   "metadata": {
    "hidden": true
   },
   "outputs": [],
   "source": []
  },
  {
   "cell_type": "markdown",
   "id": "cf6bfab6",
   "metadata": {},
   "source": [
    "# 1 - Imports"
   ]
  },
  {
   "cell_type": "code",
   "execution_count": 34,
   "id": "6edc07b6",
   "metadata": {
    "ExecuteTime": {
     "end_time": "2022-09-07T13:33:53.956339Z",
     "start_time": "2022-09-07T13:33:53.950108Z"
    }
   },
   "outputs": [],
   "source": [
    "import math\n",
    "import inflection \n",
    "import warnings\n",
    "import mysql.connector\n",
    "\n",
    "import pandas as pd\n",
    "import seaborn as sns\n",
    "\n",
    "from sklearn import cluster as c \n",
    "from sklearn import metrics as m \n",
    "from datetime import datetime\n",
    "\n",
    "from matplotlib import pyplot as plt\n",
    "\n",
    "from sklearn import preprocessing as pp \n",
    "\n",
    "sns.set(rc={'figure.figsize':(20,10)})\n",
    "warnings.filterwarnings( 'ignore' )"
   ]
  },
  {
   "cell_type": "markdown",
   "id": "9e34f211",
   "metadata": {
    "heading_collapsed": true
   },
   "source": [
    "## 0.1 Establishing the connection "
   ]
  },
  {
   "cell_type": "code",
   "execution_count": 4,
   "id": "ffed8b17",
   "metadata": {
    "ExecuteTime": {
     "end_time": "2022-09-04T04:38:32.260363Z",
     "start_time": "2022-09-04T04:38:31.573159Z"
    },
    "hidden": true
   },
   "outputs": [],
   "source": [
    "conn = mysql.connector.connect(\n",
    "    user='admin', password='0WHPq8U2yJ9JgHVjsRBM', host='interview-2.ck1h5ksgzpiq.us-east-1.rds.amazonaws.com', database='innodb')"
   ]
  },
  {
   "cell_type": "markdown",
   "id": "9c3a7631",
   "metadata": {
    "heading_collapsed": true
   },
   "source": [
    "## 0.2 Reading the table Into a DataFrame"
   ]
  },
  {
   "cell_type": "code",
   "execution_count": 5,
   "id": "32c0f75f",
   "metadata": {
    "ExecuteTime": {
     "end_time": "2022-09-04T04:39:04.400266Z",
     "start_time": "2022-09-04T04:38:34.110738Z"
    },
    "hidden": true
   },
   "outputs": [],
   "source": [
    "sql_query = pd.read_sql_query('''\n",
    "                             SELECT * FROM sales_data''', \n",
    "                             conn)"
   ]
  },
  {
   "cell_type": "markdown",
   "id": "e987da66",
   "metadata": {
    "hidden": true
   },
   "source": [
    "- loading into a CSV file"
   ]
  },
  {
   "cell_type": "code",
   "execution_count": 6,
   "id": "6adb4b16",
   "metadata": {
    "ExecuteTime": {
     "end_time": "2022-09-04T04:39:16.322620Z",
     "start_time": "2022-09-04T04:39:07.912995Z"
    },
    "hidden": true
   },
   "outputs": [],
   "source": [
    "sql_query.to_csv('/Users/rromao/Desktop/Repos/Hotmart/Hotmart-Challenge/exported_data.csv', index=False)"
   ]
  },
  {
   "cell_type": "markdown",
   "id": "dac94abf",
   "metadata": {},
   "source": [
    "# 2 - Loading Data"
   ]
  },
  {
   "cell_type": "code",
   "execution_count": 2,
   "id": "ce435ad6",
   "metadata": {
    "ExecuteTime": {
     "end_time": "2022-09-07T13:27:18.432620Z",
     "start_time": "2022-09-07T13:27:16.704722Z"
    }
   },
   "outputs": [],
   "source": [
    "df_raw = pd.read_csv('/Users/rromao/Desktop/Repos/Hotmart/Hotmart-Challenge/exported_data.csv')"
   ]
  },
  {
   "cell_type": "code",
   "execution_count": 3,
   "id": "aafcd877",
   "metadata": {
    "ExecuteTime": {
     "end_time": "2022-09-05T11:48:20.554601Z",
     "start_time": "2022-09-05T11:48:20.527388Z"
    }
   },
   "outputs": [
    {
     "data": {
      "text/html": [
       "<div>\n",
       "<style scoped>\n",
       "    .dataframe tbody tr th:only-of-type {\n",
       "        vertical-align: middle;\n",
       "    }\n",
       "\n",
       "    .dataframe tbody tr th {\n",
       "        vertical-align: top;\n",
       "    }\n",
       "\n",
       "    .dataframe thead th {\n",
       "        text-align: right;\n",
       "    }\n",
       "</style>\n",
       "<table border=\"1\" class=\"dataframe\">\n",
       "  <thead>\n",
       "    <tr style=\"text-align: right;\">\n",
       "      <th></th>\n",
       "      <th>purchase_id</th>\n",
       "      <th>product_id</th>\n",
       "      <th>affiliate_id</th>\n",
       "      <th>producer_id</th>\n",
       "      <th>buyer_id</th>\n",
       "      <th>purchase_date</th>\n",
       "      <th>product_creation_date</th>\n",
       "      <th>product_category</th>\n",
       "      <th>product_niche</th>\n",
       "      <th>purchase_value</th>\n",
       "      <th>affiliate_commission_percentual</th>\n",
       "      <th>purchase_device</th>\n",
       "      <th>purchase_origin</th>\n",
       "      <th>is_origin_page_social_network</th>\n",
       "    </tr>\n",
       "  </thead>\n",
       "  <tbody>\n",
       "    <tr>\n",
       "      <th>0</th>\n",
       "      <td>0</td>\n",
       "      <td>NaN</td>\n",
       "      <td>NaN</td>\n",
       "      <td>NaN</td>\n",
       "      <td>NaN</td>\n",
       "      <td>NaN</td>\n",
       "      <td>NaN</td>\n",
       "      <td>NaN</td>\n",
       "      <td>NaN</td>\n",
       "      <td>NaN</td>\n",
       "      <td>NaN</td>\n",
       "      <td>NaN</td>\n",
       "      <td>NaN</td>\n",
       "      <td>0</td>\n",
       "    </tr>\n",
       "    <tr>\n",
       "      <th>1</th>\n",
       "      <td>1663958</td>\n",
       "      <td>6640.0</td>\n",
       "      <td>209372.0</td>\n",
       "      <td>116238.0</td>\n",
       "      <td>1200397.0</td>\n",
       "      <td>2016-06-26 12:00:00</td>\n",
       "      <td>2011-03-19 15:47:36</td>\n",
       "      <td>Video</td>\n",
       "      <td>Presentation skills</td>\n",
       "      <td>-0.265302</td>\n",
       "      <td>NaN</td>\n",
       "      <td>Smart TV</td>\n",
       "      <td>Origin ef2b</td>\n",
       "      <td>0,0</td>\n",
       "    </tr>\n",
       "    <tr>\n",
       "      <th>2</th>\n",
       "      <td>1677087</td>\n",
       "      <td>2350.0</td>\n",
       "      <td>141418.0</td>\n",
       "      <td>2821.0</td>\n",
       "      <td>1083764.0</td>\n",
       "      <td>2016-06-26 12:00:00</td>\n",
       "      <td>2010-07-05 01:50:15</td>\n",
       "      <td>Podcast</td>\n",
       "      <td>Child psychology</td>\n",
       "      <td>-0.177077</td>\n",
       "      <td>NaN</td>\n",
       "      <td>Smart TV</td>\n",
       "      <td>Origin ef2b</td>\n",
       "      <td>0,0</td>\n",
       "    </tr>\n",
       "    <tr>\n",
       "      <th>3</th>\n",
       "      <td>2017360</td>\n",
       "      <td>35669.0</td>\n",
       "      <td>618642.0</td>\n",
       "      <td>618642.0</td>\n",
       "      <td>1436106.0</td>\n",
       "      <td>2016-06-26 12:00:00</td>\n",
       "      <td>2012-06-13 02:59:37</td>\n",
       "      <td>Podcast</td>\n",
       "      <td>Presentation skills</td>\n",
       "      <td>-0.468989</td>\n",
       "      <td>NaN</td>\n",
       "      <td>Smart TV</td>\n",
       "      <td>Origin ef2b</td>\n",
       "      <td>0,0</td>\n",
       "    </tr>\n",
       "    <tr>\n",
       "      <th>4</th>\n",
       "      <td>2017379</td>\n",
       "      <td>57998.0</td>\n",
       "      <td>1164511.0</td>\n",
       "      <td>70388.0</td>\n",
       "      <td>1436118.0</td>\n",
       "      <td>2016-06-26 12:00:00</td>\n",
       "      <td>2013-05-07 08:51:31</td>\n",
       "      <td>Podcast</td>\n",
       "      <td>Anxiety management</td>\n",
       "      <td>-0.401168</td>\n",
       "      <td>NaN</td>\n",
       "      <td>Smart TV</td>\n",
       "      <td>Origin ef2b</td>\n",
       "      <td>0,0</td>\n",
       "    </tr>\n",
       "  </tbody>\n",
       "</table>\n",
       "</div>"
      ],
      "text/plain": [
       "   purchase_id  product_id  affiliate_id  producer_id   buyer_id  \\\n",
       "0            0         NaN           NaN          NaN        NaN   \n",
       "1      1663958      6640.0      209372.0     116238.0  1200397.0   \n",
       "2      1677087      2350.0      141418.0       2821.0  1083764.0   \n",
       "3      2017360     35669.0      618642.0     618642.0  1436106.0   \n",
       "4      2017379     57998.0     1164511.0      70388.0  1436118.0   \n",
       "\n",
       "         purchase_date product_creation_date product_category  \\\n",
       "0                  NaN                   NaN              NaN   \n",
       "1  2016-06-26 12:00:00   2011-03-19 15:47:36            Video   \n",
       "2  2016-06-26 12:00:00   2010-07-05 01:50:15          Podcast   \n",
       "3  2016-06-26 12:00:00   2012-06-13 02:59:37          Podcast   \n",
       "4  2016-06-26 12:00:00   2013-05-07 08:51:31          Podcast   \n",
       "\n",
       "         product_niche  purchase_value  affiliate_commission_percentual  \\\n",
       "0                  NaN             NaN                              NaN   \n",
       "1  Presentation skills       -0.265302                              NaN   \n",
       "2     Child psychology       -0.177077                              NaN   \n",
       "3  Presentation skills       -0.468989                              NaN   \n",
       "4   Anxiety management       -0.401168                              NaN   \n",
       "\n",
       "  purchase_device purchase_origin is_origin_page_social_network  \n",
       "0             NaN             NaN                             0  \n",
       "1        Smart TV     Origin ef2b                           0,0  \n",
       "2        Smart TV     Origin ef2b                           0,0  \n",
       "3        Smart TV     Origin ef2b                           0,0  \n",
       "4        Smart TV     Origin ef2b                           0,0  "
      ]
     },
     "execution_count": 3,
     "metadata": {},
     "output_type": "execute_result"
    }
   ],
   "source": [
    "df_raw.head(5)"
   ]
  },
  {
   "cell_type": "markdown",
   "id": "a9cce1cf",
   "metadata": {},
   "source": [
    "# 3 - Data Description"
   ]
  },
  {
   "cell_type": "code",
   "execution_count": 3,
   "id": "eca5a76f",
   "metadata": {
    "ExecuteTime": {
     "end_time": "2022-09-07T13:27:23.307801Z",
     "start_time": "2022-09-07T13:27:23.242673Z"
    }
   },
   "outputs": [],
   "source": [
    "# Criando uma cópia para manipular a cópia do dado sem alterar \n",
    "# o Dataset Original \n",
    "\n",
    "df1 = df_raw.copy()"
   ]
  },
  {
   "cell_type": "markdown",
   "id": "8b821842",
   "metadata": {},
   "source": [
    "## 1.1 Rename Columns"
   ]
  },
  {
   "cell_type": "code",
   "execution_count": 4,
   "id": "6e9e1281",
   "metadata": {
    "ExecuteTime": {
     "end_time": "2022-09-07T12:35:55.273388Z",
     "start_time": "2022-09-07T12:35:55.256932Z"
    }
   },
   "outputs": [
    {
     "data": {
      "text/plain": [
       "Index(['purchase_id', 'product_id', 'affiliate_id', 'producer_id', 'buyer_id',\n",
       "       'purchase_date', 'product_creation_date', 'product_category',\n",
       "       'product_niche', 'purchase_value', 'affiliate_commission_percentual',\n",
       "       'purchase_device', 'purchase_origin', 'is_origin_page_social_network'],\n",
       "      dtype='object')"
      ]
     },
     "execution_count": 4,
     "metadata": {},
     "output_type": "execute_result"
    }
   ],
   "source": [
    "df1.columns "
   ]
  },
  {
   "cell_type": "code",
   "execution_count": 5,
   "id": "2bce1191",
   "metadata": {
    "ExecuteTime": {
     "end_time": "2022-09-07T12:35:56.892466Z",
     "start_time": "2022-09-07T12:35:56.884177Z"
    }
   },
   "outputs": [],
   "source": [
    "cols_old = ['purchase_id', 'product_id', 'affiliate_id', 'producer_id', 'buyer_id',\n",
    "       'purchase_date', 'product_creation_date', 'product_category',\n",
    "       'product_niche', 'purchase_value', 'affiliate_commission_percentual',\n",
    "       'purchase_device', 'purchase_origin', 'is_origin_page_social_network']\n",
    "\n",
    "snakecase = lambda x: inflection.underscore( x )\n",
    "\n",
    "cols_new = list( map( snakecase, cols_old ) )"
   ]
  },
  {
   "cell_type": "code",
   "execution_count": 13,
   "id": "ffff2d66",
   "metadata": {
    "ExecuteTime": {
     "end_time": "2022-09-04T04:40:08.842142Z",
     "start_time": "2022-09-04T04:40:08.838740Z"
    }
   },
   "outputs": [],
   "source": [
    "# Renomeando as colunas utilizando a Biblioteca Inflection\n",
    "# - Ela é uma biblioteca de transformação de Strings.\n",
    "# - Ela regulariza e pluraliza palavras em inglês e transforma strings de CamelCase para Underscore\n",
    "\n",
    "df1.columns = cols_new"
   ]
  },
  {
   "cell_type": "markdown",
   "id": "533333b7",
   "metadata": {},
   "source": []
  },
  {
   "cell_type": "markdown",
   "id": "fca12e69",
   "metadata": {
    "ExecuteTime": {
     "end_time": "2022-09-02T19:44:15.506451Z",
     "start_time": "2022-09-02T19:44:15.503712Z"
    }
   },
   "source": [
    "## 1.2 Data Dimensions"
   ]
  },
  {
   "cell_type": "code",
   "execution_count": 14,
   "id": "4a2f4ab4",
   "metadata": {
    "ExecuteTime": {
     "end_time": "2022-09-04T04:40:16.122631Z",
     "start_time": "2022-09-04T04:40:16.118674Z"
    }
   },
   "outputs": [
    {
     "name": "stdout",
     "output_type": "stream",
     "text": [
      "Número de Linhas: 1599829\n",
      "Número de Colunas: 14\n"
     ]
    }
   ],
   "source": [
    "print( 'Número de Linhas: {}'.format( df1.shape[0] ) )\n",
    "print( 'Número de Colunas: {}'.format( df1.shape[1] ) )"
   ]
  },
  {
   "cell_type": "markdown",
   "id": "76f6df36",
   "metadata": {},
   "source": [
    "## 1.3 Data Types"
   ]
  },
  {
   "cell_type": "code",
   "execution_count": 8,
   "id": "1133111c",
   "metadata": {
    "ExecuteTime": {
     "end_time": "2022-09-05T02:59:15.330956Z",
     "start_time": "2022-09-05T02:59:15.314968Z"
    }
   },
   "outputs": [
    {
     "data": {
      "text/plain": [
       "purchase_id                          int64\n",
       "product_id                         float64\n",
       "affiliate_id                       float64\n",
       "producer_id                        float64\n",
       "buyer_id                           float64\n",
       "purchase_date                       object\n",
       "product_creation_date               object\n",
       "product_category                    object\n",
       "product_niche                       object\n",
       "purchase_value                     float64\n",
       "affiliate_commission_percentual    float64\n",
       "purchase_device                     object\n",
       "purchase_origin                     object\n",
       "is_origin_page_social_network       object\n",
       "dtype: object"
      ]
     },
     "execution_count": 8,
     "metadata": {},
     "output_type": "execute_result"
    }
   ],
   "source": [
    "df1.dtypes"
   ]
  },
  {
   "cell_type": "markdown",
   "id": "2a89d61e",
   "metadata": {},
   "source": [
    "## 1.4 Check NA"
   ]
  },
  {
   "cell_type": "code",
   "execution_count": 9,
   "id": "956768f5",
   "metadata": {
    "ExecuteTime": {
     "end_time": "2022-09-05T02:59:21.284186Z",
     "start_time": "2022-09-05T02:59:20.491060Z"
    }
   },
   "outputs": [
    {
     "data": {
      "text/plain": [
       "purchase_id                          0\n",
       "product_id                           1\n",
       "affiliate_id                         1\n",
       "producer_id                          1\n",
       "buyer_id                             1\n",
       "purchase_date                        1\n",
       "product_creation_date                1\n",
       "product_category                     1\n",
       "product_niche                        1\n",
       "purchase_value                       1\n",
       "affiliate_commission_percentual    200\n",
       "purchase_device                      1\n",
       "purchase_origin                      1\n",
       "is_origin_page_social_network        0\n",
       "dtype: int64"
      ]
     },
     "execution_count": 9,
     "metadata": {},
     "output_type": "execute_result"
    }
   ],
   "source": [
    "df1.isna().sum()"
   ]
  },
  {
   "cell_type": "markdown",
   "id": "3e684eca",
   "metadata": {},
   "source": [
    "## 1.5 Fillout NA"
   ]
  },
  {
   "cell_type": "code",
   "execution_count": 78,
   "id": "54a1ae66",
   "metadata": {
    "ExecuteTime": {
     "end_time": "2022-09-02T20:58:07.050433Z",
     "start_time": "2022-09-02T20:58:07.024866Z"
    }
   },
   "outputs": [
    {
     "data": {
      "text/html": [
       "<div>\n",
       "<style scoped>\n",
       "    .dataframe tbody tr th:only-of-type {\n",
       "        vertical-align: middle;\n",
       "    }\n",
       "\n",
       "    .dataframe tbody tr th {\n",
       "        vertical-align: top;\n",
       "    }\n",
       "\n",
       "    .dataframe thead th {\n",
       "        text-align: right;\n",
       "    }\n",
       "</style>\n",
       "<table border=\"1\" class=\"dataframe\">\n",
       "  <thead>\n",
       "    <tr style=\"text-align: right;\">\n",
       "      <th></th>\n",
       "      <th>purchase_id</th>\n",
       "      <th>product_id</th>\n",
       "      <th>affiliate_id</th>\n",
       "      <th>producer_id</th>\n",
       "      <th>buyer_id</th>\n",
       "      <th>purchase_date</th>\n",
       "      <th>product_creation_date</th>\n",
       "      <th>product_category</th>\n",
       "      <th>product_niche</th>\n",
       "      <th>purchase_value</th>\n",
       "      <th>affiliate_commission_percentual</th>\n",
       "      <th>purchase_device</th>\n",
       "      <th>purchase_origin</th>\n",
       "      <th>is_origin_page_social_network</th>\n",
       "      <th>purchase_date_year</th>\n",
       "      <th>purchase_date_month</th>\n",
       "    </tr>\n",
       "  </thead>\n",
       "  <tbody>\n",
       "    <tr>\n",
       "      <th>0</th>\n",
       "      <td>0</td>\n",
       "      <td>0.0</td>\n",
       "      <td>0.0</td>\n",
       "      <td>0.0</td>\n",
       "      <td>0.0</td>\n",
       "      <td>0</td>\n",
       "      <td>0</td>\n",
       "      <td>0</td>\n",
       "      <td>0</td>\n",
       "      <td>0.000000</td>\n",
       "      <td>0.0</td>\n",
       "      <td>0</td>\n",
       "      <td>0</td>\n",
       "      <td>0</td>\n",
       "      <td></td>\n",
       "      <td></td>\n",
       "    </tr>\n",
       "    <tr>\n",
       "      <th>1</th>\n",
       "      <td>1663958</td>\n",
       "      <td>6640.0</td>\n",
       "      <td>209372.0</td>\n",
       "      <td>116238.0</td>\n",
       "      <td>1200397.0</td>\n",
       "      <td>2016-06-26 12:00:00</td>\n",
       "      <td>2011-03-19 15:47:36</td>\n",
       "      <td>Video</td>\n",
       "      <td>Presentation skills</td>\n",
       "      <td>-0.265302</td>\n",
       "      <td>0.0</td>\n",
       "      <td>Smart TV</td>\n",
       "      <td>Origin ef2b</td>\n",
       "      <td>0,0</td>\n",
       "      <td></td>\n",
       "      <td></td>\n",
       "    </tr>\n",
       "    <tr>\n",
       "      <th>2</th>\n",
       "      <td>1677087</td>\n",
       "      <td>2350.0</td>\n",
       "      <td>141418.0</td>\n",
       "      <td>2821.0</td>\n",
       "      <td>1083764.0</td>\n",
       "      <td>2016-06-26 12:00:00</td>\n",
       "      <td>2010-07-05 01:50:15</td>\n",
       "      <td>Podcast</td>\n",
       "      <td>Child psychology</td>\n",
       "      <td>-0.177077</td>\n",
       "      <td>0.0</td>\n",
       "      <td>Smart TV</td>\n",
       "      <td>Origin ef2b</td>\n",
       "      <td>0,0</td>\n",
       "      <td></td>\n",
       "      <td></td>\n",
       "    </tr>\n",
       "    <tr>\n",
       "      <th>3</th>\n",
       "      <td>2017360</td>\n",
       "      <td>35669.0</td>\n",
       "      <td>618642.0</td>\n",
       "      <td>618642.0</td>\n",
       "      <td>1436106.0</td>\n",
       "      <td>2016-06-26 12:00:00</td>\n",
       "      <td>2012-06-13 02:59:37</td>\n",
       "      <td>Podcast</td>\n",
       "      <td>Presentation skills</td>\n",
       "      <td>-0.468989</td>\n",
       "      <td>0.0</td>\n",
       "      <td>Smart TV</td>\n",
       "      <td>Origin ef2b</td>\n",
       "      <td>0,0</td>\n",
       "      <td></td>\n",
       "      <td></td>\n",
       "    </tr>\n",
       "    <tr>\n",
       "      <th>4</th>\n",
       "      <td>2017379</td>\n",
       "      <td>57998.0</td>\n",
       "      <td>1164511.0</td>\n",
       "      <td>70388.0</td>\n",
       "      <td>1436118.0</td>\n",
       "      <td>2016-06-26 12:00:00</td>\n",
       "      <td>2013-05-07 08:51:31</td>\n",
       "      <td>Podcast</td>\n",
       "      <td>Anxiety management</td>\n",
       "      <td>-0.401168</td>\n",
       "      <td>0.0</td>\n",
       "      <td>Smart TV</td>\n",
       "      <td>Origin ef2b</td>\n",
       "      <td>0,0</td>\n",
       "      <td></td>\n",
       "      <td></td>\n",
       "    </tr>\n",
       "  </tbody>\n",
       "</table>\n",
       "</div>"
      ],
      "text/plain": [
       "   purchase_id  product_id  affiliate_id  producer_id   buyer_id  \\\n",
       "0            0         0.0           0.0          0.0        0.0   \n",
       "1      1663958      6640.0      209372.0     116238.0  1200397.0   \n",
       "2      1677087      2350.0      141418.0       2821.0  1083764.0   \n",
       "3      2017360     35669.0      618642.0     618642.0  1436106.0   \n",
       "4      2017379     57998.0     1164511.0      70388.0  1436118.0   \n",
       "\n",
       "         purchase_date product_creation_date product_category  \\\n",
       "0                    0                     0                0   \n",
       "1  2016-06-26 12:00:00   2011-03-19 15:47:36            Video   \n",
       "2  2016-06-26 12:00:00   2010-07-05 01:50:15          Podcast   \n",
       "3  2016-06-26 12:00:00   2012-06-13 02:59:37          Podcast   \n",
       "4  2016-06-26 12:00:00   2013-05-07 08:51:31          Podcast   \n",
       "\n",
       "         product_niche  purchase_value  affiliate_commission_percentual  \\\n",
       "0                    0        0.000000                              0.0   \n",
       "1  Presentation skills       -0.265302                              0.0   \n",
       "2     Child psychology       -0.177077                              0.0   \n",
       "3  Presentation skills       -0.468989                              0.0   \n",
       "4   Anxiety management       -0.401168                              0.0   \n",
       "\n",
       "  purchase_device purchase_origin is_origin_page_social_network  \\\n",
       "0               0               0                             0   \n",
       "1        Smart TV     Origin ef2b                           0,0   \n",
       "2        Smart TV     Origin ef2b                           0,0   \n",
       "3        Smart TV     Origin ef2b                           0,0   \n",
       "4        Smart TV     Origin ef2b                           0,0   \n",
       "\n",
       "  purchase_date_year purchase_date_month  \n",
       "0                                         \n",
       "1                                         \n",
       "2                                         \n",
       "3                                         \n",
       "4                                         "
      ]
     },
     "execution_count": 78,
     "metadata": {},
     "output_type": "execute_result"
    }
   ],
   "source": [
    "df1.head(5)"
   ]
  },
  {
   "cell_type": "code",
   "execution_count": 4,
   "id": "4a1ef0f3",
   "metadata": {
    "ExecuteTime": {
     "end_time": "2022-09-07T13:27:30.993446Z",
     "start_time": "2022-09-07T13:27:30.793495Z"
    }
   },
   "outputs": [],
   "source": [
    "df1['product_id'].fillna(0, inplace=True)\n",
    "df1['affiliate_id'].fillna(0, inplace=True)\n",
    "df1['producer_id'].fillna(0, inplace=True)\n",
    "df1['buyer_id'].fillna(0, inplace=True)\n",
    "df1['product_category'].fillna(0, inplace=True)\n",
    "df1['product_niche'].fillna(0, inplace=True)\n",
    "df1['purchase_value'].fillna(0, inplace=True)\n",
    "df1['affiliate_commission_percentual'].fillna(0, inplace=True)\n",
    "df1['purchase_device'].fillna(0, inplace=True)\n",
    "df1['purchase_origin'].fillna(0, inplace=True)\n"
   ]
  },
  {
   "cell_type": "code",
   "execution_count": 5,
   "id": "d2c59bdc",
   "metadata": {
    "ExecuteTime": {
     "end_time": "2022-09-07T13:27:32.084895Z",
     "start_time": "2022-09-07T13:27:31.967711Z"
    }
   },
   "outputs": [],
   "source": [
    "df1['purchase_date'].fillna(0, inplace=True)\n",
    "df1['product_creation_date'].fillna(0, inplace=True)"
   ]
  },
  {
   "cell_type": "code",
   "execution_count": 6,
   "id": "65f790a7",
   "metadata": {
    "ExecuteTime": {
     "end_time": "2022-09-07T13:27:33.701648Z",
     "start_time": "2022-09-07T13:27:32.918986Z"
    }
   },
   "outputs": [
    {
     "data": {
      "text/plain": [
       "purchase_id                        0\n",
       "product_id                         0\n",
       "affiliate_id                       0\n",
       "producer_id                        0\n",
       "buyer_id                           0\n",
       "purchase_date                      0\n",
       "product_creation_date              0\n",
       "product_category                   0\n",
       "product_niche                      0\n",
       "purchase_value                     0\n",
       "affiliate_commission_percentual    0\n",
       "purchase_device                    0\n",
       "purchase_origin                    0\n",
       "is_origin_page_social_network      0\n",
       "dtype: int64"
      ]
     },
     "execution_count": 6,
     "metadata": {},
     "output_type": "execute_result"
    }
   ],
   "source": [
    "df1.isna().sum()"
   ]
  },
  {
   "cell_type": "code",
   "execution_count": 30,
   "id": "0ce98776",
   "metadata": {
    "ExecuteTime": {
     "end_time": "2022-09-04T12:44:40.303435Z",
     "start_time": "2022-09-04T12:44:40.278959Z"
    }
   },
   "outputs": [
    {
     "data": {
      "text/html": [
       "<div>\n",
       "<style scoped>\n",
       "    .dataframe tbody tr th:only-of-type {\n",
       "        vertical-align: middle;\n",
       "    }\n",
       "\n",
       "    .dataframe tbody tr th {\n",
       "        vertical-align: top;\n",
       "    }\n",
       "\n",
       "    .dataframe thead th {\n",
       "        text-align: right;\n",
       "    }\n",
       "</style>\n",
       "<table border=\"1\" class=\"dataframe\">\n",
       "  <thead>\n",
       "    <tr style=\"text-align: right;\">\n",
       "      <th></th>\n",
       "      <th>purchase_id</th>\n",
       "      <th>product_id</th>\n",
       "      <th>affiliate_id</th>\n",
       "      <th>producer_id</th>\n",
       "      <th>buyer_id</th>\n",
       "      <th>purchase_date</th>\n",
       "      <th>product_creation_date</th>\n",
       "      <th>product_category</th>\n",
       "      <th>product_niche</th>\n",
       "      <th>purchase_value</th>\n",
       "      <th>affiliate_commission_percentual</th>\n",
       "      <th>purchase_device</th>\n",
       "      <th>purchase_origin</th>\n",
       "      <th>is_origin_page_social_network</th>\n",
       "    </tr>\n",
       "  </thead>\n",
       "  <tbody>\n",
       "    <tr>\n",
       "      <th>0</th>\n",
       "      <td>0</td>\n",
       "      <td>0.0</td>\n",
       "      <td>0.0</td>\n",
       "      <td>0.0</td>\n",
       "      <td>0.0</td>\n",
       "      <td>0</td>\n",
       "      <td>0</td>\n",
       "      <td>0</td>\n",
       "      <td>0</td>\n",
       "      <td>0.000000</td>\n",
       "      <td>0.0</td>\n",
       "      <td>0</td>\n",
       "      <td>0</td>\n",
       "      <td>0</td>\n",
       "    </tr>\n",
       "    <tr>\n",
       "      <th>1</th>\n",
       "      <td>1663958</td>\n",
       "      <td>6640.0</td>\n",
       "      <td>209372.0</td>\n",
       "      <td>116238.0</td>\n",
       "      <td>1200397.0</td>\n",
       "      <td>2016-06-26 12:00:00</td>\n",
       "      <td>2011-03-19 15:47:36</td>\n",
       "      <td>Video</td>\n",
       "      <td>Presentation skills</td>\n",
       "      <td>-0.265302</td>\n",
       "      <td>0.0</td>\n",
       "      <td>Smart TV</td>\n",
       "      <td>Origin ef2b</td>\n",
       "      <td>0,0</td>\n",
       "    </tr>\n",
       "    <tr>\n",
       "      <th>2</th>\n",
       "      <td>1677087</td>\n",
       "      <td>2350.0</td>\n",
       "      <td>141418.0</td>\n",
       "      <td>2821.0</td>\n",
       "      <td>1083764.0</td>\n",
       "      <td>2016-06-26 12:00:00</td>\n",
       "      <td>2010-07-05 01:50:15</td>\n",
       "      <td>Podcast</td>\n",
       "      <td>Child psychology</td>\n",
       "      <td>-0.177077</td>\n",
       "      <td>0.0</td>\n",
       "      <td>Smart TV</td>\n",
       "      <td>Origin ef2b</td>\n",
       "      <td>0,0</td>\n",
       "    </tr>\n",
       "    <tr>\n",
       "      <th>3</th>\n",
       "      <td>2017360</td>\n",
       "      <td>35669.0</td>\n",
       "      <td>618642.0</td>\n",
       "      <td>618642.0</td>\n",
       "      <td>1436106.0</td>\n",
       "      <td>2016-06-26 12:00:00</td>\n",
       "      <td>2012-06-13 02:59:37</td>\n",
       "      <td>Podcast</td>\n",
       "      <td>Presentation skills</td>\n",
       "      <td>-0.468989</td>\n",
       "      <td>0.0</td>\n",
       "      <td>Smart TV</td>\n",
       "      <td>Origin ef2b</td>\n",
       "      <td>0,0</td>\n",
       "    </tr>\n",
       "    <tr>\n",
       "      <th>4</th>\n",
       "      <td>2017379</td>\n",
       "      <td>57998.0</td>\n",
       "      <td>1164511.0</td>\n",
       "      <td>70388.0</td>\n",
       "      <td>1436118.0</td>\n",
       "      <td>2016-06-26 12:00:00</td>\n",
       "      <td>2013-05-07 08:51:31</td>\n",
       "      <td>Podcast</td>\n",
       "      <td>Anxiety management</td>\n",
       "      <td>-0.401168</td>\n",
       "      <td>0.0</td>\n",
       "      <td>Smart TV</td>\n",
       "      <td>Origin ef2b</td>\n",
       "      <td>0,0</td>\n",
       "    </tr>\n",
       "  </tbody>\n",
       "</table>\n",
       "</div>"
      ],
      "text/plain": [
       "   purchase_id  product_id  affiliate_id  producer_id   buyer_id  \\\n",
       "0            0         0.0           0.0          0.0        0.0   \n",
       "1      1663958      6640.0      209372.0     116238.0  1200397.0   \n",
       "2      1677087      2350.0      141418.0       2821.0  1083764.0   \n",
       "3      2017360     35669.0      618642.0     618642.0  1436106.0   \n",
       "4      2017379     57998.0     1164511.0      70388.0  1436118.0   \n",
       "\n",
       "         purchase_date product_creation_date product_category  \\\n",
       "0                    0                     0                0   \n",
       "1  2016-06-26 12:00:00   2011-03-19 15:47:36            Video   \n",
       "2  2016-06-26 12:00:00   2010-07-05 01:50:15          Podcast   \n",
       "3  2016-06-26 12:00:00   2012-06-13 02:59:37          Podcast   \n",
       "4  2016-06-26 12:00:00   2013-05-07 08:51:31          Podcast   \n",
       "\n",
       "         product_niche  purchase_value  affiliate_commission_percentual  \\\n",
       "0                    0        0.000000                              0.0   \n",
       "1  Presentation skills       -0.265302                              0.0   \n",
       "2     Child psychology       -0.177077                              0.0   \n",
       "3  Presentation skills       -0.468989                              0.0   \n",
       "4   Anxiety management       -0.401168                              0.0   \n",
       "\n",
       "  purchase_device purchase_origin is_origin_page_social_network  \n",
       "0               0               0                             0  \n",
       "1        Smart TV     Origin ef2b                           0,0  \n",
       "2        Smart TV     Origin ef2b                           0,0  \n",
       "3        Smart TV     Origin ef2b                           0,0  \n",
       "4        Smart TV     Origin ef2b                           0,0  "
      ]
     },
     "execution_count": 30,
     "metadata": {},
     "output_type": "execute_result"
    }
   ],
   "source": [
    "df1.head(5)"
   ]
  },
  {
   "cell_type": "markdown",
   "id": "c2149dac",
   "metadata": {},
   "source": [
    "## 1.6 Change Data Types"
   ]
  },
  {
   "cell_type": "code",
   "execution_count": 7,
   "id": "1af85eef",
   "metadata": {
    "ExecuteTime": {
     "end_time": "2022-09-07T13:27:37.147968Z",
     "start_time": "2022-09-07T13:27:36.272209Z"
    }
   },
   "outputs": [],
   "source": [
    "df1['purchase_date'] = pd.to_datetime(df1['purchase_date'], errors='coerce')\n",
    "df1['product_creation_date'] = pd.to_datetime(df1['product_creation_date'], errors='coerce')"
   ]
  },
  {
   "cell_type": "code",
   "execution_count": 8,
   "id": "5ad13334",
   "metadata": {
    "ExecuteTime": {
     "end_time": "2022-09-07T13:27:38.431396Z",
     "start_time": "2022-09-07T13:27:38.424797Z"
    }
   },
   "outputs": [
    {
     "data": {
      "text/plain": [
       "purchase_id                                 int64\n",
       "product_id                                float64\n",
       "affiliate_id                              float64\n",
       "producer_id                               float64\n",
       "buyer_id                                  float64\n",
       "purchase_date                      datetime64[ns]\n",
       "product_creation_date              datetime64[ns]\n",
       "product_category                           object\n",
       "product_niche                              object\n",
       "purchase_value                            float64\n",
       "affiliate_commission_percentual           float64\n",
       "purchase_device                            object\n",
       "purchase_origin                            object\n",
       "is_origin_page_social_network              object\n",
       "dtype: object"
      ]
     },
     "execution_count": 8,
     "metadata": {},
     "output_type": "execute_result"
    }
   ],
   "source": [
    "df1.dtypes"
   ]
  },
  {
   "cell_type": "code",
   "execution_count": 9,
   "id": "7d94672a",
   "metadata": {
    "ExecuteTime": {
     "end_time": "2022-09-07T13:27:40.546667Z",
     "start_time": "2022-09-07T13:27:40.486215Z"
    }
   },
   "outputs": [],
   "source": [
    "df1['product_id'] = df1['product_id'].astype( int )\n",
    "df1['affiliate_id'] = df1['affiliate_id'].astype( int )\n",
    "df1['producer_id'] = df1['producer_id'].astype( int )\n",
    "df1['buyer_id'] = df1['buyer_id'].astype( int )"
   ]
  },
  {
   "cell_type": "markdown",
   "id": "099da6d7",
   "metadata": {},
   "source": [
    "## 1.7 Descriptive Statistics"
   ]
  },
  {
   "cell_type": "markdown",
   "id": "92d1f2ac",
   "metadata": {
    "ExecuteTime": {
     "end_time": "2022-09-05T03:18:26.089825Z",
     "start_time": "2022-09-05T03:18:26.085180Z"
    }
   },
   "source": [
    "1. Estimativas de Localização:\n",
    "    \n",
    "    1. Média\n",
    "    2. Mediana\n",
    "    3. Mínimo\n",
    "    4. Máximo\n",
    "    \n",
    "2. Estimativas de Variabilidade:\n",
    "    \n",
    "    1. Desvio\n",
    "    2. Variância \n",
    "    3. Desvio Padrão\n",
    "    4. Range( Intervalo )\n",
    "    \n",
    "3. Skewness:\n",
    "    \n",
    "4. Kurtosis:"
   ]
  },
  {
   "cell_type": "code",
   "execution_count": 10,
   "id": "9c092450",
   "metadata": {
    "ExecuteTime": {
     "end_time": "2022-09-07T13:27:43.486207Z",
     "start_time": "2022-09-07T13:27:43.479520Z"
    }
   },
   "outputs": [],
   "source": [
    "num_attributes = df1.select_dtypes( include=['int64', 'float64'] )\n",
    "cat_attributes = df1.select_dtypes( exclude=['int64', 'float64', 'datetime64[ns]'])"
   ]
  },
  {
   "cell_type": "code",
   "execution_count": 11,
   "id": "6134a510",
   "metadata": {
    "ExecuteTime": {
     "end_time": "2022-09-07T13:27:44.560399Z",
     "start_time": "2022-09-07T13:27:44.526848Z"
    }
   },
   "outputs": [],
   "source": [
    "cols_drop = ['purchase_id','product_id','affiliate_id', 'producer_id', 'buyer_id','affiliate_id']\n",
    "num_attributes = num_attributes.drop(columns= cols_drop )"
   ]
  },
  {
   "cell_type": "markdown",
   "id": "5ce31582",
   "metadata": {
    "ExecuteTime": {
     "end_time": "2022-09-05T03:32:43.524910Z",
     "start_time": "2022-09-05T03:32:43.520001Z"
    }
   },
   "source": [
    "### 1.7.1 Numerical attributes"
   ]
  },
  {
   "cell_type": "code",
   "execution_count": 12,
   "id": "a032f99e",
   "metadata": {
    "ExecuteTime": {
     "end_time": "2022-09-07T13:27:46.732776Z",
     "start_time": "2022-09-07T13:27:46.536253Z"
    }
   },
   "outputs": [
    {
     "data": {
      "text/html": [
       "<div>\n",
       "<style scoped>\n",
       "    .dataframe tbody tr th:only-of-type {\n",
       "        vertical-align: middle;\n",
       "    }\n",
       "\n",
       "    .dataframe tbody tr th {\n",
       "        vertical-align: top;\n",
       "    }\n",
       "\n",
       "    .dataframe thead th {\n",
       "        text-align: right;\n",
       "    }\n",
       "</style>\n",
       "<table border=\"1\" class=\"dataframe\">\n",
       "  <thead>\n",
       "    <tr style=\"text-align: right;\">\n",
       "      <th></th>\n",
       "      <th>attributes</th>\n",
       "      <th>min</th>\n",
       "      <th>max</th>\n",
       "      <th>range</th>\n",
       "      <th>media</th>\n",
       "      <th>mediana</th>\n",
       "      <th>desvio_padrao</th>\n",
       "      <th>skewness</th>\n",
       "      <th>kurtosis</th>\n",
       "      <th>P10</th>\n",
       "      <th>P25</th>\n",
       "      <th>P50</th>\n",
       "      <th>P75</th>\n",
       "      <th>P95</th>\n",
       "      <th>P99</th>\n",
       "    </tr>\n",
       "  </thead>\n",
       "  <tbody>\n",
       "    <tr>\n",
       "      <th>0</th>\n",
       "      <td>purchase_value</td>\n",
       "      <td>-0.54</td>\n",
       "      <td>124.56</td>\n",
       "      <td>125.10</td>\n",
       "      <td>0.00</td>\n",
       "      <td>-0.35</td>\n",
       "      <td>1.00</td>\n",
       "      <td>10.82</td>\n",
       "      <td>629.21</td>\n",
       "      <td>-0.51</td>\n",
       "      <td>-0.45</td>\n",
       "      <td>-0.35</td>\n",
       "      <td>0.06</td>\n",
       "      <td>1.65</td>\n",
       "      <td>3.84</td>\n",
       "    </tr>\n",
       "    <tr>\n",
       "      <th>1</th>\n",
       "      <td>affiliate_commission_percentual</td>\n",
       "      <td>0.00</td>\n",
       "      <td>100.00</td>\n",
       "      <td>100.00</td>\n",
       "      <td>7.60</td>\n",
       "      <td>0.00</td>\n",
       "      <td>18.48</td>\n",
       "      <td>2.26</td>\n",
       "      <td>3.75</td>\n",
       "      <td>0.00</td>\n",
       "      <td>0.00</td>\n",
       "      <td>0.00</td>\n",
       "      <td>0.00</td>\n",
       "      <td>55.00</td>\n",
       "      <td>70.00</td>\n",
       "    </tr>\n",
       "  </tbody>\n",
       "</table>\n",
       "</div>"
      ],
      "text/plain": [
       "                        attributes   min    max  range  media  mediana  \\\n",
       "0                   purchase_value -0.54 124.56 125.10   0.00    -0.35   \n",
       "1  affiliate_commission_percentual  0.00 100.00 100.00   7.60     0.00   \n",
       "\n",
       "   desvio_padrao  skewness  kurtosis   P10   P25   P50  P75   P95   P99  \n",
       "0           1.00     10.82    629.21 -0.51 -0.45 -0.35 0.06  1.65  3.84  \n",
       "1          18.48      2.26      3.75  0.00  0.00  0.00 0.00 55.00 70.00  "
      ]
     },
     "execution_count": 12,
     "metadata": {},
     "output_type": "execute_result"
    }
   ],
   "source": [
    "# Estimadore de localização ( Media, Mediana, Min, Max )\n",
    "\n",
    "est1 = pd.DataFrame( num_attributes.apply( np.mean ) ).T\n",
    "est2 = pd.DataFrame( num_attributes.apply( np.median ) ).T\n",
    "est3 = pd.DataFrame( num_attributes.apply( np.min ) ).T\n",
    "est4 = pd.DataFrame( num_attributes.apply( np.max ) ).T\n",
    "\n",
    "# estimadores de variabilizade (Desvio Padrão, Range )\n",
    "\n",
    "est5 = pd.DataFrame( num_attributes.apply( np.std ) ).T\n",
    "est6 = pd.DataFrame( num_attributes.apply( lambda x: x.max() - x.min() ) ).T\n",
    "\n",
    "# skewness e Kurtosis\n",
    "\n",
    "est7 = pd.DataFrame( num_attributes.apply( lambda x: x.skew() ) ).T\n",
    "est8 = pd.DataFrame( num_attributes.apply( lambda x: x.kurtosis() ) ).T\n",
    "\n",
    "\n",
    "# Concatenando\n",
    "pd.options.display.float_format = '{:.2f}'.format\n",
    "m1 = pd.concat( [ est3, est4, est6, est1, est2, est5, est7, est8] ).T.reset_index()\n",
    "\n",
    "m1.columns = ['attributes', 'min', 'max', 'range', 'media', 'mediana', 'desvio_padrao', 'skewness', 'kurtosis']\n",
    "\n",
    "# percentis \n",
    "\n",
    "quartis = num_attributes.apply( lambda x: np.percentile( x, q=[10, 25, 50, 75, 95, 99] ) ).T.reset_index()\n",
    "quartis.columns = ['attributes', 'P10', 'P25', 'P50', 'P75', 'P95', 'P99']\n",
    "\n",
    "#\n",
    "m2 = pd.merge(m1, quartis, how='inner', on='attributes')\n",
    "m2\n"
   ]
  },
  {
   "cell_type": "code",
   "execution_count": 89,
   "id": "f698a8b3",
   "metadata": {
    "ExecuteTime": {
     "end_time": "2022-09-06T12:51:28.317996Z",
     "start_time": "2022-09-06T12:51:28.315336Z"
    }
   },
   "outputs": [],
   "source": [
    "# Possíveis "
   ]
  },
  {
   "cell_type": "markdown",
   "id": "786fab43",
   "metadata": {},
   "source": [
    "### Mínimo \n"
   ]
  },
  {
   "cell_type": "markdown",
   "id": "19557347",
   "metadata": {},
   "source": [
    "- O menor valor de um conjunto de dados"
   ]
  },
  {
   "cell_type": "markdown",
   "id": "3ad86d79",
   "metadata": {},
   "source": [
    "### Máximo \n",
    "\n"
   ]
  },
  {
   "cell_type": "markdown",
   "id": "973c91c7",
   "metadata": {},
   "source": [
    "- O Maior valor de um conjunto de dados"
   ]
  },
  {
   "cell_type": "markdown",
   "id": "2669004c",
   "metadata": {},
   "source": [
    "### Intervalo"
   ]
  },
  {
   "cell_type": "markdown",
   "id": "0258859c",
   "metadata": {},
   "source": [
    "- A diferença entre o maior e o menor conjunto de dados\n",
    "- Mostra a Escala dos dados "
   ]
  },
  {
   "cell_type": "markdown",
   "id": "404ce28e",
   "metadata": {
    "heading_collapsed": true
   },
   "source": [
    "### Média"
   ]
  },
  {
   "cell_type": "markdown",
   "id": "aa89f675",
   "metadata": {
    "hidden": true
   },
   "source": [
    "- A soma de todos os valores dividido pelo número de valores usado na soma. \n",
    "- Resume o conjunto de dados em um ponto central "
   ]
  },
  {
   "cell_type": "markdown",
   "id": "a00f1f1d",
   "metadata": {
    "heading_collapsed": true
   },
   "source": [
    "### Mediana"
   ]
  },
  {
   "cell_type": "markdown",
   "id": "6f8c9371",
   "metadata": {
    "hidden": true
   },
   "source": [
    "- O número do meio de uma lista ordenada. \n",
    "Ex.: (3 ,5 ,1 ,2 ,10 ) Ordenando a lista [ 1, 2, 3 ,5 ,10 ] Aqui a mediana é o número 3 \n",
    "    \n",
    "- ( 3,  1, 2, 10 ) Ordenando a lista [ 1, 2, 3, 10 ] Aqui a mediana será 2 + 3 / 2 = 2.5 \n",
    "\n",
    "- Se o tamanho do conjunto de dados for um número par:\n",
    "   - A mediana é a média dos valores centrais\n",
    "\n",
    "- Se o tamanh do conjunto de dados for um número impar:\n",
    "    - A mediana é o valor central do cojunto de dados ordenados"
   ]
  },
  {
   "cell_type": "markdown",
   "id": "7139c6a4",
   "metadata": {
    "heading_collapsed": true
   },
   "source": [
    "### Desvio Padrão "
   ]
  },
  {
   "cell_type": "markdown",
   "id": "fe7942b8",
   "metadata": {
    "hidden": true
   },
   "source": [
    "- Estimativa de dispersão ou variabilidade \n",
    "- Mede a dispersão dos valores do conjunto de dados em torno de uma estimativa de localização ( média)"
   ]
  },
  {
   "cell_type": "markdown",
   "id": "34f125ef",
   "metadata": {
    "hidden": true
   },
   "source": [
    "- 99% dos dados estão dentro 3 desvio padrao \n",
    "- 95% dos dados estão dentro de 2 desvio padrao\n",
    "- 68% dos dados estão dentro de 1 desvio padrao  \n",
    " \n",
    "\n",
    "Quando se trata de distribuição normal"
   ]
  },
  {
   "cell_type": "markdown",
   "id": "ee4ae8e8",
   "metadata": {
    "heading_collapsed": true
   },
   "source": [
    "### Skewness"
   ]
  },
  {
   "cell_type": "markdown",
   "id": "96d3e5dc",
   "metadata": {
    "hidden": true
   },
   "source": [
    "- Medida de assimetria da distribuição de dados, em relação a uma distribuição normal. \n",
    "- A distribuição normal tem simetria em relação a média, ou seja, 50% do dados estão a esquerda e a direita\n",
    "\n",
    "Ter a ideia dos numeros que mais fgrequentes aparecem nos dados. Assim, saberá a escala desses dados\n",
    "\n",
    "- Skewness Positiva e Negativa:\n",
    "    - Mediana > Média:Deslocamento para a esquerda = Skewness Negativa\n",
    "    - Mediana < Média:Deslocamento para a esquerda = Skewness Positiva"
   ]
  },
  {
   "cell_type": "markdown",
   "id": "28bf783a",
   "metadata": {
    "heading_collapsed": true
   },
   "source": [
    "### Kurtosis"
   ]
  },
  {
   "cell_type": "markdown",
   "id": "82a39f5d",
   "metadata": {
    "hidden": true
   },
   "source": [
    " - Kurtosis evidencia as caudas longas (Probabilidades de ascotecer valores extremos, seja mínimos ou máximo)"
   ]
  },
  {
   "cell_type": "markdown",
   "id": "9e259cae",
   "metadata": {
    "heading_collapsed": true
   },
   "source": [
    "### Quartis (Quantile)"
   ]
  },
  {
   "cell_type": "markdown",
   "id": "1eebd8fe",
   "metadata": {
    "hidden": true
   },
   "source": [
    " - Um quartil é qualquer um dos três valores que divide o conjunto de dados ordenado em 4 partes iguais, e assim, cada parte representa 1/4 da amostra original "
   ]
  },
  {
   "cell_type": "markdown",
   "id": "90b08d73",
   "metadata": {
    "hidden": true
   },
   "source": [
    "**Primeiro Quartil (Quartil inferior):** è o valor do conjunto de dados que delimita os 25% menores valores;"
   ]
  },
  {
   "cell_type": "markdown",
   "id": "f434d03b",
   "metadata": {
    "ExecuteTime": {
     "end_time": "2022-09-05T12:53:22.458760Z",
     "start_time": "2022-09-05T12:53:22.458753Z"
    },
    "hidden": true
   },
   "source": [
    "**Segundo Quartil (Quartil do meio):** è o valor do conjunto de dados que delimita os 50% menores valores;"
   ]
  },
  {
   "cell_type": "markdown",
   "id": "0f1a9f73",
   "metadata": {
    "ExecuteTime": {
     "end_time": "2022-09-05T12:53:22.462749Z",
     "start_time": "2022-09-05T12:53:22.462744Z"
    },
    "hidden": true
   },
   "source": [
    "**Terceiro Quartil (Quartil Superior):** è o valor do conjunto de dados que delimita os 75% menores valores;"
   ]
  },
  {
   "cell_type": "markdown",
   "id": "f0484732",
   "metadata": {
    "heading_collapsed": true
   },
   "source": [
    "### Percentis"
   ]
  },
  {
   "cell_type": "markdown",
   "id": "1c1cc95b",
   "metadata": {
    "hidden": true
   },
   "source": [
    "- Os percentis são medidas que dividem a amostra orenada em 100 partes, cada uma com uma porcentagem de dados aproximadamente igual "
   ]
  },
  {
   "cell_type": "markdown",
   "id": "dff7c356",
   "metadata": {
    "hidden": true
   },
   "source": [
    "- O percentil 1, determina 1% dos menores valores do conjunto de dados( 1% dos dados são menores que P1)\n",
    "- O percentil 10, determina 10% dos menores valores do conjunto de dados( 10% dos dados são menores que P1)\n",
    "- O percentil 25, determina 25% dos menores valores do conjunto de dados( Primeiro Quartil)\n",
    "- O percentil 50, determina 50% dos menores valores do conjunto de dados( Segundo Quartil = Mediana)\n",
    "- O percentil 75, determina 75% dos menores valores do conjunto de dados( Terceiro Quartil)\n",
    "\n",
    "\n",
    "\n",
    "\n"
   ]
  },
  {
   "cell_type": "markdown",
   "id": "acb82b8b",
   "metadata": {
    "heading_collapsed": true
   },
   "source": [
    "### Boxplot"
   ]
  },
  {
   "cell_type": "markdown",
   "id": "2f230202",
   "metadata": {
    "hidden": true
   },
   "source": [
    "- Boxplot motra os 4 principais atributos de uma variável: Centro, variabilidade, assimetria, outliers. \n",
    "-Violinplot mostra os 5 principais atributos de uma variável: Centro, Variabilidade, assimetria, outliers e densidade"
   ]
  },
  {
   "cell_type": "code",
   "execution_count": 90,
   "id": "c5aba825",
   "metadata": {
    "ExecuteTime": {
     "end_time": "2022-09-06T12:57:52.105609Z",
     "start_time": "2022-09-06T12:57:51.876682Z"
    },
    "hidden": true
   },
   "outputs": [
    {
     "data": {
      "text/plain": [
       "<AxesSubplot:xlabel='affiliate_commission_percentual'>"
      ]
     },
     "execution_count": 90,
     "metadata": {},
     "output_type": "execute_result"
    },
    {
     "data": {
      "image/png": "[encoded data removed]",
      "text/plain": [
       "<Figure size 1440x720 with 1 Axes>"
      ]
     },
     "metadata": {
      "needs_background": "light"
     },
     "output_type": "display_data"
    }
   ],
   "source": [
    "plt.figure( figsize=(20,10) )\n",
    "sns.boxplot( x='affiliate_commission_percentual', whis=124, data=num_attributes)"
   ]
  },
  {
   "cell_type": "code",
   "execution_count": 80,
   "id": "254db305",
   "metadata": {
    "ExecuteTime": {
     "end_time": "2022-09-06T12:40:50.662690Z",
     "start_time": "2022-09-06T12:40:50.652340Z"
    },
    "hidden": true
   },
   "outputs": [
    {
     "data": {
      "text/plain": [
       "0.825"
      ]
     },
     "execution_count": 80,
     "metadata": {},
     "output_type": "execute_result"
    }
   ],
   "source": [
    "Q3 = 0.06\n",
    "Q1 = - 0.45\n",
    "Q3 + 1.5*( Q3 - Q1 )"
   ]
  },
  {
   "cell_type": "code",
   "execution_count": 29,
   "id": "3ec938d4",
   "metadata": {
    "ExecuteTime": {
     "end_time": "2022-09-05T13:04:51.830598Z",
     "start_time": "2022-09-05T13:04:51.768035Z"
    },
    "hidden": true
   },
   "outputs": [
    {
     "data": {
      "text/plain": [
       "array([-0.453015 , -0.349998 ,  0.0649229])"
      ]
     },
     "execution_count": 29,
     "metadata": {},
     "output_type": "execute_result"
    }
   ],
   "source": [
    "np.quantile(num_attributes['purchase_value'], q=[0.25, 0.50,0.75] )"
   ]
  },
  {
   "cell_type": "code",
   "execution_count": 35,
   "id": "69bc7192",
   "metadata": {
    "ExecuteTime": {
     "end_time": "2022-09-05T13:37:29.532782Z",
     "start_time": "2022-09-05T13:37:29.528338Z"
    },
    "hidden": true
   },
   "outputs": [],
   "source": [
    "# Minimo = \n",
    "# Quartil 01 = \n",
    "# Quartil 02 = mediana = \n",
    "# Quartil 03 = \n",
    "# Maximo = \n",
    "# Outliers = "
   ]
  },
  {
   "cell_type": "code",
   "execution_count": null,
   "id": "d2359d5e",
   "metadata": {
    "hidden": true
   },
   "outputs": [],
   "source": [
    "#minimum = Q1 - 1.5 * ( Q3 - Q1 )\n",
    "#maximum = Q3 + 1.5 * ( Q3 - Q1 )\n",
    "\n",
    "#if minimum > valor_minimo_do_conjunto_de_dados:\n",
    "#    print(num_attributes['purchase_value'].min() )\n",
    "#else:\n",
    "#    print(minimum)\n",
    "\n",
    "#if maximum > valor_maximo_do_conjunto_de_dados:\n",
    "#    print(valor_maximo_do_conjunto_de_dados )\n",
    "#else: \n",
    "#    print( maximum)"
   ]
  },
  {
   "cell_type": "code",
   "execution_count": 32,
   "id": "8917d0cc",
   "metadata": {
    "ExecuteTime": {
     "end_time": "2022-09-05T13:33:56.670275Z",
     "start_time": "2022-09-05T13:33:56.662469Z"
    },
    "hidden": true
   },
   "outputs": [
    {
     "data": {
      "text/plain": [
       "0.8395000000000001"
      ]
     },
     "execution_count": 32,
     "metadata": {},
     "output_type": "execute_result"
    }
   ],
   "source": [
    "Q3 = 0.064\n",
    "Q1 = -0.453\n",
    "Q2 = -0.349\n",
    "\n",
    "Q3 + 1.5 * (Q3 - Q1)\n",
    "\n",
    "# A linha fora do quadrado deveria ser o valor abaixo, pois qualquer valor acima desse seria um outlier"
   ]
  },
  {
   "cell_type": "code",
   "execution_count": 34,
   "id": "6991d68b",
   "metadata": {
    "ExecuteTime": {
     "end_time": "2022-09-05T13:34:29.894069Z",
     "start_time": "2022-09-05T13:34:29.889467Z"
    },
    "hidden": true
   },
   "outputs": [
    {
     "data": {
      "text/plain": [
       "-1.2285000000000001"
      ]
     },
     "execution_count": 34,
     "metadata": {},
     "output_type": "execute_result"
    }
   ],
   "source": [
    "Q1 - 1.5 * (Q3 - Q1)"
   ]
  },
  {
   "cell_type": "code",
   "execution_count": 44,
   "id": "00936088",
   "metadata": {
    "ExecuteTime": {
     "end_time": "2022-09-05T13:48:17.514156Z",
     "start_time": "2022-09-05T13:48:16.690567Z"
    },
    "hidden": true
   },
   "outputs": [
    {
     "data": {
      "text/plain": [
       "<AxesSubplot:xlabel='purchase_value'>"
      ]
     },
     "execution_count": 44,
     "metadata": {},
     "output_type": "execute_result"
    },
    {
     "data": {
      "image/png": "[encoded data removed]",
      "text/plain": [
       "<Figure size 1440x720 with 1 Axes>"
      ]
     },
     "metadata": {
      "needs_background": "light"
     },
     "output_type": "display_data"
    }
   ],
   "source": [
    "plt.figure(figsize=(20,10 ))\n",
    "\n",
    "sns.violinplot(x='purchase_value', data=num_attributes)"
   ]
  },
  {
   "cell_type": "code",
   "execution_count": 91,
   "id": "7fa51fd1",
   "metadata": {
    "ExecuteTime": {
     "end_time": "2022-09-06T12:58:26.772997Z",
     "start_time": "2022-09-06T12:58:26.522506Z"
    },
    "hidden": true
   },
   "outputs": [
    {
     "data": {
      "text/plain": [
       "<AxesSubplot:xlabel='affiliate_commission_percentual', ylabel='Percent'>"
      ]
     },
     "execution_count": 91,
     "metadata": {},
     "output_type": "execute_result"
    },
    {
     "data": {
      "image/png": "[encoded data removed]",
      "text/plain": [
       "<Figure size 1440x720 with 1 Axes>"
      ]
     },
     "metadata": {
      "needs_background": "light"
     },
     "output_type": "display_data"
    }
   ],
   "source": [
    "plt.figure(figsize=(20,10 ))\n",
    "sns.histplot(x='affiliate_commission_percentual', data=num_attributes, stat=\"percent\", discrete=True)"
   ]
  },
  {
   "cell_type": "code",
   "execution_count": 33,
   "id": "c253a23d",
   "metadata": {
    "ExecuteTime": {
     "end_time": "2022-09-07T13:07:24.861440Z",
     "start_time": "2022-09-07T13:07:24.064665Z"
    },
    "hidden": true
   },
   "outputs": [
    {
     "data": {
      "image/png": "[encoded data removed]",
      "text/plain": [
       "<Figure size 432x288 with 1 Axes>"
      ]
     },
     "metadata": {
      "needs_background": "light"
     },
     "output_type": "display_data"
    }
   ],
   "source": [
    "from scipy import stats\n",
    "sns.set(rc={'figure.figsize':(20,10)})\n",
    "stats.probplot(df1['purchase_value'], dist='norm', plot=plt)\n",
    "plt.show()"
   ]
  },
  {
   "cell_type": "code",
   "execution_count": 22,
   "id": "88a4d19d",
   "metadata": {
    "ExecuteTime": {
     "end_time": "2022-09-07T12:55:48.108308Z",
     "start_time": "2022-09-07T12:55:48.084256Z"
    },
    "hidden": true
   },
   "outputs": [],
   "source": []
  },
  {
   "cell_type": "markdown",
   "id": "442fa78b",
   "metadata": {},
   "source": [
    "### 1.7.2 Categorical Attributes"
   ]
  },
  {
   "cell_type": "code",
   "execution_count": 13,
   "id": "0496ed6f",
   "metadata": {
    "ExecuteTime": {
     "end_time": "2022-09-07T13:27:54.256907Z",
     "start_time": "2022-09-07T13:27:54.027948Z"
    }
   },
   "outputs": [
    {
     "data": {
      "text/plain": [
       "product_category                   11\n",
       "product_niche                      26\n",
       "purchase_device                     6\n",
       "purchase_origin                  9604\n",
       "is_origin_page_social_network       3\n",
       "dtype: int64"
      ]
     },
     "execution_count": 13,
     "metadata": {},
     "output_type": "execute_result"
    }
   ],
   "source": [
    "cat_attributes.apply( lambda x: x.unique().shape[0] )"
   ]
  },
  {
   "cell_type": "code",
   "execution_count": 14,
   "id": "dd525480",
   "metadata": {
    "ExecuteTime": {
     "end_time": "2022-09-07T13:27:57.598887Z",
     "start_time": "2022-09-07T13:27:57.208025Z"
    }
   },
   "outputs": [
    {
     "data": {
      "text/plain": [
       "<AxesSubplot:xlabel='product_category', ylabel='Percent'>"
      ]
     },
     "execution_count": 14,
     "metadata": {},
     "output_type": "execute_result"
    },
    {
     "data": {
      "image/png": "[encoded data removed]",
      "text/plain": [
       "<Figure size 1440x720 with 1 Axes>"
      ]
     },
     "metadata": {
      "needs_background": "light"
     },
     "output_type": "display_data"
    }
   ],
   "source": [
    "aux = df1[(df1['product_category'] != '0') & (df1['purchase_value'] > 0)]\n",
    "\n",
    "\n",
    "\n",
    "plt.figure(figsize=(20,10 ))\n",
    "sns.histplot(x='product_category', data=aux, stat=\"percent\", discrete=True)"
   ]
  },
  {
   "cell_type": "code",
   "execution_count": 15,
   "id": "761d2e0f",
   "metadata": {
    "ExecuteTime": {
     "end_time": "2022-09-07T13:27:59.485395Z",
     "start_time": "2022-09-07T13:27:59.361148Z"
    }
   },
   "outputs": [],
   "source": [
    "count_product_by_niche = df1[['buyer_id', 'product_niche']].groupby('product_niche').count().reset_index()\n"
   ]
  },
  {
   "cell_type": "markdown",
   "id": "815303ad",
   "metadata": {},
   "source": [
    "# 4 - Data Filtering"
   ]
  },
  {
   "cell_type": "code",
   "execution_count": 53,
   "id": "84f18a44",
   "metadata": {
    "ExecuteTime": {
     "end_time": "2022-09-07T13:50:35.675478Z",
     "start_time": "2022-09-07T13:50:35.568247Z"
    }
   },
   "outputs": [
    {
     "data": {
      "text/html": [
       "<div>\n",
       "<style scoped>\n",
       "    .dataframe tbody tr th:only-of-type {\n",
       "        vertical-align: middle;\n",
       "    }\n",
       "\n",
       "    .dataframe tbody tr th {\n",
       "        vertical-align: top;\n",
       "    }\n",
       "\n",
       "    .dataframe thead th {\n",
       "        text-align: right;\n",
       "    }\n",
       "</style>\n",
       "<table border=\"1\" class=\"dataframe\">\n",
       "  <thead>\n",
       "    <tr style=\"text-align: right;\">\n",
       "      <th></th>\n",
       "      <th>purchase_id</th>\n",
       "      <th>product_id</th>\n",
       "      <th>affiliate_id</th>\n",
       "      <th>producer_id</th>\n",
       "      <th>buyer_id</th>\n",
       "      <th>purchase_date</th>\n",
       "      <th>product_creation_date</th>\n",
       "      <th>product_category</th>\n",
       "      <th>product_niche</th>\n",
       "      <th>purchase_value</th>\n",
       "      <th>affiliate_commission_percentual</th>\n",
       "      <th>purchase_device</th>\n",
       "      <th>purchase_origin</th>\n",
       "      <th>is_origin_page_social_network</th>\n",
       "    </tr>\n",
       "  </thead>\n",
       "  <tbody>\n",
       "    <tr>\n",
       "      <th>0</th>\n",
       "      <td>0</td>\n",
       "      <td>0</td>\n",
       "      <td>0</td>\n",
       "      <td>0</td>\n",
       "      <td>0</td>\n",
       "      <td>1970-01-01 00:00:00</td>\n",
       "      <td>1970-01-01 00:00:00</td>\n",
       "      <td>0</td>\n",
       "      <td>0</td>\n",
       "      <td>0.00</td>\n",
       "      <td>0.00</td>\n",
       "      <td>0</td>\n",
       "      <td>0</td>\n",
       "      <td>0</td>\n",
       "    </tr>\n",
       "    <tr>\n",
       "      <th>1</th>\n",
       "      <td>1663958</td>\n",
       "      <td>6640</td>\n",
       "      <td>209372</td>\n",
       "      <td>116238</td>\n",
       "      <td>1200397</td>\n",
       "      <td>2016-06-26 12:00:00</td>\n",
       "      <td>2011-03-19 15:47:36</td>\n",
       "      <td>Video</td>\n",
       "      <td>Presentation skills</td>\n",
       "      <td>-0.27</td>\n",
       "      <td>0.00</td>\n",
       "      <td>Smart TV</td>\n",
       "      <td>Origin ef2b</td>\n",
       "      <td>0,0</td>\n",
       "    </tr>\n",
       "    <tr>\n",
       "      <th>2</th>\n",
       "      <td>1677087</td>\n",
       "      <td>2350</td>\n",
       "      <td>141418</td>\n",
       "      <td>2821</td>\n",
       "      <td>1083764</td>\n",
       "      <td>2016-06-26 12:00:00</td>\n",
       "      <td>2010-07-05 01:50:15</td>\n",
       "      <td>Podcast</td>\n",
       "      <td>Child psychology</td>\n",
       "      <td>-0.18</td>\n",
       "      <td>0.00</td>\n",
       "      <td>Smart TV</td>\n",
       "      <td>Origin ef2b</td>\n",
       "      <td>0,0</td>\n",
       "    </tr>\n",
       "    <tr>\n",
       "      <th>3</th>\n",
       "      <td>2017360</td>\n",
       "      <td>35669</td>\n",
       "      <td>618642</td>\n",
       "      <td>618642</td>\n",
       "      <td>1436106</td>\n",
       "      <td>2016-06-26 12:00:00</td>\n",
       "      <td>2012-06-13 02:59:37</td>\n",
       "      <td>Podcast</td>\n",
       "      <td>Presentation skills</td>\n",
       "      <td>-0.47</td>\n",
       "      <td>0.00</td>\n",
       "      <td>Smart TV</td>\n",
       "      <td>Origin ef2b</td>\n",
       "      <td>0,0</td>\n",
       "    </tr>\n",
       "    <tr>\n",
       "      <th>4</th>\n",
       "      <td>2017379</td>\n",
       "      <td>57998</td>\n",
       "      <td>1164511</td>\n",
       "      <td>70388</td>\n",
       "      <td>1436118</td>\n",
       "      <td>2016-06-26 12:00:00</td>\n",
       "      <td>2013-05-07 08:51:31</td>\n",
       "      <td>Podcast</td>\n",
       "      <td>Anxiety management</td>\n",
       "      <td>-0.40</td>\n",
       "      <td>0.00</td>\n",
       "      <td>Smart TV</td>\n",
       "      <td>Origin ef2b</td>\n",
       "      <td>0,0</td>\n",
       "    </tr>\n",
       "  </tbody>\n",
       "</table>\n",
       "</div>"
      ],
      "text/plain": [
       "   purchase_id  product_id  affiliate_id  producer_id  buyer_id  \\\n",
       "0            0           0             0            0         0   \n",
       "1      1663958        6640        209372       116238   1200397   \n",
       "2      1677087        2350        141418         2821   1083764   \n",
       "3      2017360       35669        618642       618642   1436106   \n",
       "4      2017379       57998       1164511        70388   1436118   \n",
       "\n",
       "        purchase_date product_creation_date product_category  \\\n",
       "0 1970-01-01 00:00:00   1970-01-01 00:00:00                0   \n",
       "1 2016-06-26 12:00:00   2011-03-19 15:47:36            Video   \n",
       "2 2016-06-26 12:00:00   2010-07-05 01:50:15          Podcast   \n",
       "3 2016-06-26 12:00:00   2012-06-13 02:59:37          Podcast   \n",
       "4 2016-06-26 12:00:00   2013-05-07 08:51:31          Podcast   \n",
       "\n",
       "         product_niche  purchase_value  affiliate_commission_percentual  \\\n",
       "0                    0            0.00                             0.00   \n",
       "1  Presentation skills           -0.27                             0.00   \n",
       "2     Child psychology           -0.18                             0.00   \n",
       "3  Presentation skills           -0.47                             0.00   \n",
       "4   Anxiety management           -0.40                             0.00   \n",
       "\n",
       "  purchase_device purchase_origin is_origin_page_social_network  \n",
       "0               0               0                             0  \n",
       "1        Smart TV     Origin ef2b                           0,0  \n",
       "2        Smart TV     Origin ef2b                           0,0  \n",
       "3        Smart TV     Origin ef2b                           0,0  \n",
       "4        Smart TV     Origin ef2b                           0,0  "
      ]
     },
     "execution_count": 53,
     "metadata": {},
     "output_type": "execute_result"
    }
   ],
   "source": [
    "df2 = df1.copy()\n",
    "df2.head(5)"
   ]
  },
  {
   "cell_type": "markdown",
   "id": "bb9f9755",
   "metadata": {
    "ExecuteTime": {
     "end_time": "2022-09-04T04:41:27.802170Z",
     "start_time": "2022-09-04T04:41:27.782400Z"
    }
   },
   "source": [
    "# 5 - Feature Engineering"
   ]
  },
  {
   "cell_type": "code",
   "execution_count": 43,
   "id": "96acd6ae",
   "metadata": {
    "ExecuteTime": {
     "end_time": "2022-09-07T13:24:26.317199Z",
     "start_time": "2022-09-07T13:24:26.312339Z"
    }
   },
   "outputs": [
    {
     "ename": "SyntaxError",
     "evalue": "invalid syntax (3186136201.py, line 4)",
     "output_type": "error",
     "traceback": [
      "\u001b[0;36m  Input \u001b[0;32mIn [43]\u001b[0;36m\u001b[0m\n\u001b[0;31m    Cliente entrou na base = Fato\u001b[0m\n\u001b[0m            ^\u001b[0m\n\u001b[0;31mSyntaxError\u001b[0m\u001b[0;31m:\u001b[0m invalid syntax\n"
     ]
    }
   ],
   "source": [
    "# Fato\n",
    "\n",
    "Compra = Fato (Soma, Contar, Maior, Menor, Media, Mediana)\n",
    "Cliente entrou na base = Fato\n",
    "Devolução = Fato\n",
    "\n",
    "# Dimensão\n",
    "\n",
    "# Tempo( Ano, mês, dia, hora, minuto)\n",
    "# Espaço ( Localização, região, lat, long, bairro, rua )\n",
    "# Produto( Nome, Tipo, Categoria, Preço, Condição de Compra)\n",
    "# Marketing (Organica, Paid ( Facebook, Google))"
   ]
  },
  {
   "cell_type": "code",
   "execution_count": 97,
   "id": "bcda5b7c",
   "metadata": {
    "ExecuteTime": {
     "end_time": "2022-09-06T14:04:14.462597Z",
     "start_time": "2022-09-06T14:04:14.457091Z"
    }
   },
   "outputs": [
    {
     "data": {
      "text/plain": [
       "(1599829, 14)"
      ]
     },
     "execution_count": 97,
     "metadata": {},
     "output_type": "execute_result"
    }
   ],
   "source": [
    "df2.shape"
   ]
  },
  {
   "cell_type": "code",
   "execution_count": 17,
   "id": "57202397",
   "metadata": {
    "ExecuteTime": {
     "end_time": "2022-09-07T13:28:12.962035Z",
     "start_time": "2022-09-07T13:28:12.009576Z"
    }
   },
   "outputs": [],
   "source": [
    "# Monetario\n",
    "df_monetary = df2[['buyer_id', 'purchase_value']].groupby('buyer_id').sum().reset_index()\n",
    "\n",
    "\n",
    "# Recency - Last day Purchase\n",
    "df_recency = df2[['buyer_id', 'purchase_date']].groupby('buyer_id').max().reset_index()\n",
    "df_recency['recency_days'] = (df2['purchase_date'].max() - df2['purchase_date'] ).dt.days\n",
    "df_recency = df_recency[['buyer_id', 'recency_days']].copy()\n",
    "df_ref = pd.merge(df_recency, df_monetary, on='buyer_id', how='left')\n",
    "\n",
    "# Frequency\n",
    "df_freq = df2[['buyer_id', 'purchase_id']].drop_duplicates().groupby('buyer_id').count().reset_index()\n",
    "df_ref = pd.merge(df_ref, df_freq, on='buyer_id', how='left')"
   ]
  },
  {
   "cell_type": "code",
   "execution_count": 67,
   "id": "47e08fcf",
   "metadata": {
    "ExecuteTime": {
     "end_time": "2022-09-07T13:54:47.883324Z",
     "start_time": "2022-09-07T13:54:43.576508Z"
    }
   },
   "outputs": [],
   "source": [
    "# year\n",
    "df2['year'] = df2['purchase_date'].dt.year\n",
    "\n",
    "# month\n",
    "df2['month'] = df2['purchase_date'].dt.month\n",
    "\n",
    "# day\n",
    "df2['day'] = df2['purchase_date'].dt.day\n",
    "\n",
    "# week of year\n",
    "df2['week_of_year'] = df2['purchase_date'].dt.weekofyear\n",
    "\n",
    "# year week\n",
    "df2['year_week'] = df2['purchase_date'].dt.strftime( '%Y-%W' )"
   ]
  },
  {
   "cell_type": "code",
   "execution_count": null,
   "id": "72067990",
   "metadata": {},
   "outputs": [],
   "source": [
    "A Hotmart depende dos maiores produtores da plataforma? Ou seja, os produtores que mais vendem são responsáveis pela maior parte do faturamento da Hotmart?\n",
    "Existe algum padrão ou tendência relevante nos dados?\n",
    "Há épocas do ano em que uma determinada categoria ou nicho de produto vende mais?\n",
    "Se tivéssemos que fazer uma campanha de Marketing incentivar mais pessoas a criarem produtos em um determinado nicho, qual nicho seria esse?\n",
    "Quem são os melhores clientes?\n",
    "Quais clientes estão proximos do churn?\n",
    "Quais os potenciais clientes para entrar no programa de fidelização?\n",
    "Quais clientes precisam ser retidos?\n",
    "Quais clientes mais prováveis de responder as campanhas de marketing?"
   ]
  },
  {
   "cell_type": "code",
   "execution_count": 19,
   "id": "35ba7c55",
   "metadata": {
    "ExecuteTime": {
     "end_time": "2022-09-07T13:28:21.093695Z",
     "start_time": "2022-09-07T13:28:21.087602Z"
    }
   },
   "outputs": [
    {
     "data": {
      "text/plain": [
       "0    1\n",
       "1    6\n",
       "2    6\n",
       "3    6\n",
       "4    6\n",
       "Name: month, dtype: int64"
      ]
     },
     "execution_count": 19,
     "metadata": {},
     "output_type": "execute_result"
    }
   ],
   "source": [
    "df2['month'].head()"
   ]
  },
  {
   "cell_type": "code",
   "execution_count": 55,
   "id": "9b22f70d",
   "metadata": {
    "ExecuteTime": {
     "end_time": "2022-09-07T13:51:00.745606Z",
     "start_time": "2022-09-07T13:51:00.449482Z"
    }
   },
   "outputs": [
    {
     "data": {
      "image/png": "[encoded data removed]",
      "text/plain": [
       "<Figure size 1440x720 with 1 Axes>"
      ]
     },
     "metadata": {},
     "output_type": "display_data"
    }
   ],
   "source": [
    "\n",
    "month_map = {1: 'Jan',  2: 'Fev',  3: 'Mar',  4: 'Apr',  5: 'May',  6: 'Jun',  7: 'Jul',  8: 'Aug',  9: 'Sep',  10: 'Oct', 11: 'Nov', 12: 'Dec'}\n",
    "\n",
    "df2['month_map'] = df2['purchase_date'].dt.month.map( month_map )\n",
    "aux2 = df2[['month_map', 'purchase_value']].groupby( 'month_map' ).sum().reset_index()\n",
    "sns.barplot( x='month_map', y='purchase_value', hue=None, data=aux2 );"
   ]
  },
  {
   "cell_type": "code",
   "execution_count": 39,
   "id": "86a13fb1",
   "metadata": {
    "ExecuteTime": {
     "end_time": "2022-09-07T13:36:08.118579Z",
     "start_time": "2022-09-07T13:36:07.479376Z"
    }
   },
   "outputs": [
    {
     "data": {
      "text/plain": [
       "<AxesSubplot:xlabel='year'>"
      ]
     },
     "execution_count": 39,
     "metadata": {},
     "output_type": "execute_result"
    },
    {
     "data": {
      "image/png": "[encoded data removed]",
      "text/plain": [
       "<Figure size 1440x720 with 1 Axes>"
      ]
     },
     "metadata": {},
     "output_type": "display_data"
    },
    {
     "data": {
      "image/png": "[encoded data removed]",
      "text/plain": [
       "<Figure size 1440x720 with 1 Axes>"
      ]
     },
     "metadata": {},
     "output_type": "display_data"
    }
   ],
   "source": [
    "# Producers com mais cursos vendem mais? \n",
    "\n",
    "aux1 = df2[['product_category', 'purchase_value']].groupby( 'product_category' ).sum().reset_index()\n",
    "sns.barplot( x='product_category', y='purchase_value', data=aux1 );\n",
    "\n",
    "\n",
    "aux2 = df2[['year', 'product_niche', 'purchase_value']].groupby( ['year','product_niche'] ).sum().reset_index()\n",
    "aux2.pivot( index='year', columns='product_niche', values='purchase_value' ).plot()\n"
   ]
  },
  {
   "cell_type": "code",
   "execution_count": 38,
   "id": "ca972c0b",
   "metadata": {
    "ExecuteTime": {
     "end_time": "2022-09-07T13:35:10.418084Z",
     "start_time": "2022-09-07T13:35:09.997006Z"
    }
   },
   "outputs": [
    {
     "data": {
      "image/png": "[encoded data removed]",
      "text/plain": [
       "<Figure size 1440x720 with 1 Axes>"
      ]
     },
     "metadata": {},
     "output_type": "display_data"
    }
   ],
   "source": [
    "aux4 = df2[['month_map', 'product_category', 'purchase_value']].groupby( ['month_map', 'product_category'] ).sum().reset_index()\n",
    "sns.barplot( x='month_map', y='purchase_value', hue='product_category', data=aux4 );"
   ]
  },
  {
   "cell_type": "code",
   "execution_count": 71,
   "id": "cf384787",
   "metadata": {
    "ExecuteTime": {
     "end_time": "2022-09-07T13:56:08.602556Z",
     "start_time": "2022-09-07T13:56:08.546715Z"
    }
   },
   "outputs": [
    {
     "data": {
      "text/html": [
       "<div>\n",
       "<style scoped>\n",
       "    .dataframe tbody tr th:only-of-type {\n",
       "        vertical-align: middle;\n",
       "    }\n",
       "\n",
       "    .dataframe tbody tr th {\n",
       "        vertical-align: top;\n",
       "    }\n",
       "\n",
       "    .dataframe thead th {\n",
       "        text-align: right;\n",
       "    }\n",
       "</style>\n",
       "<table border=\"1\" class=\"dataframe\">\n",
       "  <thead>\n",
       "    <tr style=\"text-align: right;\">\n",
       "      <th></th>\n",
       "      <th>year</th>\n",
       "      <th>producer_id</th>\n",
       "      <th>purchase_value</th>\n",
       "    </tr>\n",
       "  </thead>\n",
       "  <tbody>\n",
       "    <tr>\n",
       "      <th>0</th>\n",
       "      <td>1970</td>\n",
       "      <td>1</td>\n",
       "      <td>1</td>\n",
       "    </tr>\n",
       "    <tr>\n",
       "      <th>1</th>\n",
       "      <td>2016</td>\n",
       "      <td>1599828</td>\n",
       "      <td>1599828</td>\n",
       "    </tr>\n",
       "  </tbody>\n",
       "</table>\n",
       "</div>"
      ],
      "text/plain": [
       "   year  producer_id  purchase_value\n",
       "0  1970            1               1\n",
       "1  2016      1599828         1599828"
      ]
     },
     "execution_count": 71,
     "metadata": {},
     "output_type": "execute_result"
    }
   ],
   "source": [
    "# Validando quantidade de vendas por ano. \n",
    "aux33 = df2[['producer_id','purchase_value', 'year']].groupby('year').count().reset_index()\n",
    "aux33.head(5)"
   ]
  },
  {
   "cell_type": "code",
   "execution_count": 74,
   "id": "3bea193a",
   "metadata": {
    "ExecuteTime": {
     "end_time": "2022-09-07T14:02:41.856154Z",
     "start_time": "2022-09-07T14:02:41.763271Z"
    }
   },
   "outputs": [
    {
     "data": {
      "text/html": [
       "<div>\n",
       "<style scoped>\n",
       "    .dataframe tbody tr th:only-of-type {\n",
       "        vertical-align: middle;\n",
       "    }\n",
       "\n",
       "    .dataframe tbody tr th {\n",
       "        vertical-align: top;\n",
       "    }\n",
       "\n",
       "    .dataframe thead th {\n",
       "        text-align: right;\n",
       "    }\n",
       "</style>\n",
       "<table border=\"1\" class=\"dataframe\">\n",
       "  <thead>\n",
       "    <tr style=\"text-align: right;\">\n",
       "      <th></th>\n",
       "      <th>month_map</th>\n",
       "      <th>purchase_value</th>\n",
       "    </tr>\n",
       "  </thead>\n",
       "  <tbody>\n",
       "    <tr>\n",
       "      <th>0</th>\n",
       "      <td>Apr</td>\n",
       "      <td>1177.75</td>\n",
       "    </tr>\n",
       "    <tr>\n",
       "      <th>1</th>\n",
       "      <td>Fev</td>\n",
       "      <td>-20452.01</td>\n",
       "    </tr>\n",
       "    <tr>\n",
       "      <th>2</th>\n",
       "      <td>Jan</td>\n",
       "      <td>-6568.18</td>\n",
       "    </tr>\n",
       "    <tr>\n",
       "      <th>3</th>\n",
       "      <td>Jun</td>\n",
       "      <td>-5726.42</td>\n",
       "    </tr>\n",
       "    <tr>\n",
       "      <th>4</th>\n",
       "      <td>Mar</td>\n",
       "      <td>43003.22</td>\n",
       "    </tr>\n",
       "  </tbody>\n",
       "</table>\n",
       "</div>"
      ],
      "text/plain": [
       "  month_map  purchase_value\n",
       "0       Apr         1177.75\n",
       "1       Fev       -20452.01\n",
       "2       Jan        -6568.18\n",
       "3       Jun        -5726.42\n",
       "4       Mar        43003.22"
      ]
     },
     "execution_count": 74,
     "metadata": {},
     "output_type": "execute_result"
    }
   ],
   "source": [
    "results = df2[['month_map','purchase_value']].groupby('month_map').sum().reset_index()\n",
    "results.head()"
   ]
  },
  {
   "cell_type": "code",
   "execution_count": 91,
   "id": "a0521318",
   "metadata": {
    "ExecuteTime": {
     "end_time": "2022-09-07T14:12:30.438123Z",
     "start_time": "2022-09-07T14:12:30.311373Z"
    }
   },
   "outputs": [
    {
     "data": {
      "text/plain": [
       "<BarContainer object of 6 artists>"
      ]
     },
     "execution_count": 91,
     "metadata": {},
     "output_type": "execute_result"
    },
    {
     "data": {
      "image/png": "[encoded data removed]",
      "text/plain": [
       "<Figure size 1440x720 with 1 Axes>"
      ]
     },
     "metadata": {},
     "output_type": "display_data"
    }
   ],
   "source": [
    "month = range(1,7)\n",
    "plt.bar(month, results['purchase_value'] )\n"
   ]
  },
  {
   "cell_type": "code",
   "execution_count": 110,
   "id": "3c7388a6",
   "metadata": {
    "ExecuteTime": {
     "end_time": "2022-09-07T14:23:18.645514Z",
     "start_time": "2022-09-07T14:23:18.587268Z"
    }
   },
   "outputs": [
    {
     "data": {
      "text/html": [
       "<div>\n",
       "<style scoped>\n",
       "    .dataframe tbody tr th:only-of-type {\n",
       "        vertical-align: middle;\n",
       "    }\n",
       "\n",
       "    .dataframe tbody tr th {\n",
       "        vertical-align: top;\n",
       "    }\n",
       "\n",
       "    .dataframe thead th {\n",
       "        text-align: right;\n",
       "    }\n",
       "</style>\n",
       "<table border=\"1\" class=\"dataframe\">\n",
       "  <thead>\n",
       "    <tr style=\"text-align: right;\">\n",
       "      <th></th>\n",
       "      <th>producer_id</th>\n",
       "      <th>affiliate_id</th>\n",
       "      <th>purchase_value</th>\n",
       "    </tr>\n",
       "  </thead>\n",
       "  <tbody>\n",
       "    <tr>\n",
       "      <th>249</th>\n",
       "      <td>42346</td>\n",
       "      <td>562412557</td>\n",
       "      <td>24506.56</td>\n",
       "    </tr>\n",
       "    <tr>\n",
       "      <th>4452</th>\n",
       "      <td>3425706</td>\n",
       "      <td>12904634502</td>\n",
       "      <td>9579.47</td>\n",
       "    </tr>\n",
       "    <tr>\n",
       "      <th>3116</th>\n",
       "      <td>1931767</td>\n",
       "      <td>10316061852</td>\n",
       "      <td>8004.61</td>\n",
       "    </tr>\n",
       "    <tr>\n",
       "      <th>995</th>\n",
       "      <td>409590</td>\n",
       "      <td>745380339</td>\n",
       "      <td>6596.96</td>\n",
       "    </tr>\n",
       "    <tr>\n",
       "      <th>2141</th>\n",
       "      <td>1058799</td>\n",
       "      <td>2781030447</td>\n",
       "      <td>6558.26</td>\n",
       "    </tr>\n",
       "    <tr>\n",
       "      <th>...</th>\n",
       "      <td>...</td>\n",
       "      <td>...</td>\n",
       "      <td>...</td>\n",
       "    </tr>\n",
       "    <tr>\n",
       "      <th>557</th>\n",
       "      <td>166090</td>\n",
       "      <td>6086709687</td>\n",
       "      <td>-9271.32</td>\n",
       "    </tr>\n",
       "    <tr>\n",
       "      <th>4416</th>\n",
       "      <td>3382787</td>\n",
       "      <td>73640451494</td>\n",
       "      <td>-9299.17</td>\n",
       "    </tr>\n",
       "    <tr>\n",
       "      <th>1101</th>\n",
       "      <td>464846</td>\n",
       "      <td>55956251720</td>\n",
       "      <td>-12437.50</td>\n",
       "    </tr>\n",
       "    <tr>\n",
       "      <th>5003</th>\n",
       "      <td>3992235</td>\n",
       "      <td>113018786383</td>\n",
       "      <td>-13566.50</td>\n",
       "    </tr>\n",
       "    <tr>\n",
       "      <th>7501</th>\n",
       "      <td>6697083</td>\n",
       "      <td>276053761260</td>\n",
       "      <td>-17041.25</td>\n",
       "    </tr>\n",
       "  </tbody>\n",
       "</table>\n",
       "<p>8021 rows × 3 columns</p>\n",
       "</div>"
      ],
      "text/plain": [
       "      producer_id  affiliate_id  purchase_value\n",
       "249         42346     562412557        24506.56\n",
       "4452      3425706   12904634502         9579.47\n",
       "3116      1931767   10316061852         8004.61\n",
       "995        409590     745380339         6596.96\n",
       "2141      1058799    2781030447         6558.26\n",
       "...           ...           ...             ...\n",
       "557        166090    6086709687        -9271.32\n",
       "4416      3382787   73640451494        -9299.17\n",
       "1101       464846   55956251720       -12437.50\n",
       "5003      3992235  113018786383       -13566.50\n",
       "7501      6697083  276053761260       -17041.25\n",
       "\n",
       "[8021 rows x 3 columns]"
      ]
     },
     "execution_count": 110,
     "metadata": {},
     "output_type": "execute_result"
    }
   ],
   "source": [
    "aux10 = df2[['producer_id', 'affiliate_id','purchase_value']].groupby('producer_id').sum().reset_index()\n",
    "aux10.sort_values(by='purchase_value', ascending=False)"
   ]
  },
  {
   "cell_type": "code",
   "execution_count": 132,
   "id": "2143db36",
   "metadata": {
    "ExecuteTime": {
     "end_time": "2022-09-07T14:39:11.897588Z",
     "start_time": "2022-09-07T14:39:11.701390Z"
    }
   },
   "outputs": [
    {
     "name": "stdout",
     "output_type": "stream",
     "text": [
      "Foram 1247083 compras que tiveram afiliados como intermediário no processo da compra\n",
      "Foram 352746 compras que não tiveram afiliados como intermediário no processo da compra\n"
     ]
    }
   ],
   "source": [
    "# Quantidade de compras que foram efetuada diretamente pelo produtor, não tiveram afiliados intermediando. \n",
    "\n",
    "with_affiliates = df2[df2['producer_id'] == df2['affiliate_id']]\n",
    "non_affiliates = df2[df2['producer_id'] != df2['affiliate_id']]\n",
    "\n",
    "\n",
    "print('Foram {} compras que tiveram afiliados como intermediário no processo da compra'.format(with_affiliates.shape[0]))\n",
    "print('Foram {} compras que não tiveram afiliados como intermediário no processo da compra'.format(non_affiliates.shape[0]))\n"
   ]
  },
  {
   "cell_type": "code",
   "execution_count": 152,
   "id": "b2f150da",
   "metadata": {
    "ExecuteTime": {
     "end_time": "2022-09-07T14:50:40.080996Z",
     "start_time": "2022-09-07T14:50:40.030187Z"
    }
   },
   "outputs": [
    {
     "data": {
      "text/html": [
       "<div>\n",
       "<style scoped>\n",
       "    .dataframe tbody tr th:only-of-type {\n",
       "        vertical-align: middle;\n",
       "    }\n",
       "\n",
       "    .dataframe tbody tr th {\n",
       "        vertical-align: top;\n",
       "    }\n",
       "\n",
       "    .dataframe thead th {\n",
       "        text-align: right;\n",
       "    }\n",
       "</style>\n",
       "<table border=\"1\" class=\"dataframe\">\n",
       "  <thead>\n",
       "    <tr style=\"text-align: right;\">\n",
       "      <th></th>\n",
       "      <th>producer_id</th>\n",
       "      <th>purchase_value</th>\n",
       "      <th>affiliate_commission_percentual</th>\n",
       "    </tr>\n",
       "  </thead>\n",
       "  <tbody>\n",
       "    <tr>\n",
       "      <th>5954</th>\n",
       "      <td>5230700</td>\n",
       "      <td>124.56</td>\n",
       "      <td>0.00</td>\n",
       "    </tr>\n",
       "    <tr>\n",
       "      <th>924</th>\n",
       "      <td>409590</td>\n",
       "      <td>48.26</td>\n",
       "      <td>0.00</td>\n",
       "    </tr>\n",
       "    <tr>\n",
       "      <th>5737</th>\n",
       "      <td>4993899</td>\n",
       "      <td>46.32</td>\n",
       "      <td>0.00</td>\n",
       "    </tr>\n",
       "    <tr>\n",
       "      <th>2984</th>\n",
       "      <td>1968219</td>\n",
       "      <td>43.35</td>\n",
       "      <td>0.00</td>\n",
       "    </tr>\n",
       "    <tr>\n",
       "      <th>5265</th>\n",
       "      <td>4554369</td>\n",
       "      <td>42.63</td>\n",
       "      <td>0.00</td>\n",
       "    </tr>\n",
       "    <tr>\n",
       "      <th>...</th>\n",
       "      <td>...</td>\n",
       "      <td>...</td>\n",
       "      <td>...</td>\n",
       "    </tr>\n",
       "    <tr>\n",
       "      <th>263</th>\n",
       "      <td>55338</td>\n",
       "      <td>-0.54</td>\n",
       "      <td>0.00</td>\n",
       "    </tr>\n",
       "    <tr>\n",
       "      <th>6137</th>\n",
       "      <td>5379733</td>\n",
       "      <td>-0.54</td>\n",
       "      <td>0.00</td>\n",
       "    </tr>\n",
       "    <tr>\n",
       "      <th>7576</th>\n",
       "      <td>7341877</td>\n",
       "      <td>-0.54</td>\n",
       "      <td>0.00</td>\n",
       "    </tr>\n",
       "    <tr>\n",
       "      <th>7031</th>\n",
       "      <td>6545494</td>\n",
       "      <td>-0.54</td>\n",
       "      <td>0.00</td>\n",
       "    </tr>\n",
       "    <tr>\n",
       "      <th>7580</th>\n",
       "      <td>7353537</td>\n",
       "      <td>-0.54</td>\n",
       "      <td>0.00</td>\n",
       "    </tr>\n",
       "  </tbody>\n",
       "</table>\n",
       "<p>7673 rows × 3 columns</p>\n",
       "</div>"
      ],
      "text/plain": [
       "      producer_id  purchase_value  affiliate_commission_percentual\n",
       "5954      5230700          124.56                             0.00\n",
       "924        409590           48.26                             0.00\n",
       "5737      4993899           46.32                             0.00\n",
       "2984      1968219           43.35                             0.00\n",
       "5265      4554369           42.63                             0.00\n",
       "...           ...             ...                              ...\n",
       "263         55338           -0.54                             0.00\n",
       "6137      5379733           -0.54                             0.00\n",
       "7576      7341877           -0.54                             0.00\n",
       "7031      6545494           -0.54                             0.00\n",
       "7580      7353537           -0.54                             0.00\n",
       "\n",
       "[7673 rows x 3 columns]"
      ]
     },
     "execution_count": 152,
     "metadata": {},
     "output_type": "execute_result"
    }
   ],
   "source": [
    "# Das Compras efetuadas por intermédio de um afiliado qual foi a maior compra\n",
    "\n",
    "\n",
    "test = with_affiliates[[ 'producer_id','purchase_value', 'affiliate_commission_percentual']].groupby('producer_id').max().reset_index()\n",
    "test.sort_values(by='purchase_value', ascending=False)"
   ]
  },
  {
   "cell_type": "code",
   "execution_count": 178,
   "id": "3074fa86",
   "metadata": {
    "ExecuteTime": {
     "end_time": "2022-09-07T15:03:21.857602Z",
     "start_time": "2022-09-07T15:03:21.779640Z"
    }
   },
   "outputs": [
    {
     "data": {
      "text/plain": [
       "purchase_id                        1\n",
       "product_id                         1\n",
       "affiliate_id                       1\n",
       "producer_id                        1\n",
       "buyer_id                           1\n",
       "purchase_date                      1\n",
       "product_creation_date              1\n",
       "product_category                   1\n",
       "product_niche                      1\n",
       "purchase_value                     1\n",
       "affiliate_commission_percentual    1\n",
       "purchase_device                    1\n",
       "purchase_origin                    1\n",
       "is_origin_page_social_network      1\n",
       "month_map                          1\n",
       "year                               1\n",
       "month                              1\n",
       "day                                1\n",
       "week_of_year                       1\n",
       "year_week                          1\n",
       "dtype: int64"
      ]
     },
     "execution_count": 178,
     "metadata": {},
     "output_type": "execute_result"
    }
   ],
   "source": [
    "with_affiliates[(with_affiliates[ 'product_category'] == 0)].count()"
   ]
  },
  {
   "cell_type": "markdown",
   "id": "08cbb524",
   "metadata": {},
   "source": [
    "# 6 - EDA - Space Study"
   ]
  },
  {
   "cell_type": "markdown",
   "id": "93121594",
   "metadata": {
    "ExecuteTime": {
     "end_time": "2022-09-04T05:05:56.354858Z",
     "start_time": "2022-09-04T05:05:56.352121Z"
    }
   },
   "source": [
    "# 7 - Data Preparation"
   ]
  },
  {
   "cell_type": "code",
   "execution_count": 23,
   "id": "3912bfbe",
   "metadata": {
    "ExecuteTime": {
     "end_time": "2022-09-07T13:29:13.127145Z",
     "start_time": "2022-09-07T13:29:13.033215Z"
    }
   },
   "outputs": [],
   "source": [
    "df2 = df1.copy()"
   ]
  },
  {
   "cell_type": "code",
   "execution_count": 24,
   "id": "757fcff7",
   "metadata": {
    "ExecuteTime": {
     "end_time": "2022-09-07T13:29:15.773808Z",
     "start_time": "2022-09-07T13:29:15.746129Z"
    }
   },
   "outputs": [],
   "source": [
    "#plt.figure( figsize=(20,10 ))\n",
    "#sns.set(rc={'figure.figsize':(20,10)})\n",
    "#sns.distplot(num_attributes['purchase_value'])\n",
    "\n",
    "mms = pp.MinMaxScaler()\n",
    "df2['purchase_value'] = mms.fit_transform( df2[['purchase_value']])"
   ]
  },
  {
   "cell_type": "markdown",
   "id": "16b5feab",
   "metadata": {},
   "source": [
    "# 8 - Feature Selection"
   ]
  },
  {
   "cell_type": "code",
   "execution_count": 179,
   "id": "7ad8e068",
   "metadata": {
    "ExecuteTime": {
     "end_time": "2022-09-07T16:09:35.136726Z",
     "start_time": "2022-09-07T16:09:34.802877Z"
    }
   },
   "outputs": [],
   "source": [
    "X = df2.copy()"
   ]
  },
  {
   "cell_type": "code",
   "execution_count": 181,
   "id": "3c2f0a34",
   "metadata": {
    "ExecuteTime": {
     "end_time": "2022-09-08T02:43:37.879019Z",
     "start_time": "2022-09-08T02:43:37.854451Z"
    }
   },
   "outputs": [
    {
     "data": {
      "text/html": [
       "<div>\n",
       "<style scoped>\n",
       "    .dataframe tbody tr th:only-of-type {\n",
       "        vertical-align: middle;\n",
       "    }\n",
       "\n",
       "    .dataframe tbody tr th {\n",
       "        vertical-align: top;\n",
       "    }\n",
       "\n",
       "    .dataframe thead th {\n",
       "        text-align: right;\n",
       "    }\n",
       "</style>\n",
       "<table border=\"1\" class=\"dataframe\">\n",
       "  <thead>\n",
       "    <tr style=\"text-align: right;\">\n",
       "      <th></th>\n",
       "      <th>purchase_id</th>\n",
       "      <th>product_id</th>\n",
       "      <th>affiliate_id</th>\n",
       "      <th>producer_id</th>\n",
       "      <th>buyer_id</th>\n",
       "      <th>purchase_date</th>\n",
       "      <th>product_creation_date</th>\n",
       "      <th>product_category</th>\n",
       "      <th>product_niche</th>\n",
       "      <th>purchase_value</th>\n",
       "      <th>affiliate_commission_percentual</th>\n",
       "      <th>purchase_device</th>\n",
       "      <th>purchase_origin</th>\n",
       "      <th>is_origin_page_social_network</th>\n",
       "      <th>month_map</th>\n",
       "      <th>year</th>\n",
       "      <th>month</th>\n",
       "      <th>day</th>\n",
       "      <th>week_of_year</th>\n",
       "      <th>year_week</th>\n",
       "    </tr>\n",
       "  </thead>\n",
       "  <tbody>\n",
       "    <tr>\n",
       "      <th>0</th>\n",
       "      <td>0</td>\n",
       "      <td>0</td>\n",
       "      <td>0</td>\n",
       "      <td>0</td>\n",
       "      <td>0</td>\n",
       "      <td>1970-01-01 00:00:00</td>\n",
       "      <td>1970-01-01 00:00:00</td>\n",
       "      <td>0</td>\n",
       "      <td>0</td>\n",
       "      <td>0.00</td>\n",
       "      <td>0.00</td>\n",
       "      <td>0</td>\n",
       "      <td>0</td>\n",
       "      <td>0</td>\n",
       "      <td>Jan</td>\n",
       "      <td>1970</td>\n",
       "      <td>1</td>\n",
       "      <td>1</td>\n",
       "      <td>1</td>\n",
       "      <td>1970-00</td>\n",
       "    </tr>\n",
       "    <tr>\n",
       "      <th>1</th>\n",
       "      <td>1663958</td>\n",
       "      <td>6640</td>\n",
       "      <td>209372</td>\n",
       "      <td>116238</td>\n",
       "      <td>1200397</td>\n",
       "      <td>2016-06-26 12:00:00</td>\n",
       "      <td>2011-03-19 15:47:36</td>\n",
       "      <td>Video</td>\n",
       "      <td>Presentation skills</td>\n",
       "      <td>-0.27</td>\n",
       "      <td>0.00</td>\n",
       "      <td>Smart TV</td>\n",
       "      <td>Origin ef2b</td>\n",
       "      <td>0,0</td>\n",
       "      <td>Jun</td>\n",
       "      <td>2016</td>\n",
       "      <td>6</td>\n",
       "      <td>26</td>\n",
       "      <td>25</td>\n",
       "      <td>2016-25</td>\n",
       "    </tr>\n",
       "    <tr>\n",
       "      <th>2</th>\n",
       "      <td>1677087</td>\n",
       "      <td>2350</td>\n",
       "      <td>141418</td>\n",
       "      <td>2821</td>\n",
       "      <td>1083764</td>\n",
       "      <td>2016-06-26 12:00:00</td>\n",
       "      <td>2010-07-05 01:50:15</td>\n",
       "      <td>Podcast</td>\n",
       "      <td>Child psychology</td>\n",
       "      <td>-0.18</td>\n",
       "      <td>0.00</td>\n",
       "      <td>Smart TV</td>\n",
       "      <td>Origin ef2b</td>\n",
       "      <td>0,0</td>\n",
       "      <td>Jun</td>\n",
       "      <td>2016</td>\n",
       "      <td>6</td>\n",
       "      <td>26</td>\n",
       "      <td>25</td>\n",
       "      <td>2016-25</td>\n",
       "    </tr>\n",
       "    <tr>\n",
       "      <th>3</th>\n",
       "      <td>2017360</td>\n",
       "      <td>35669</td>\n",
       "      <td>618642</td>\n",
       "      <td>618642</td>\n",
       "      <td>1436106</td>\n",
       "      <td>2016-06-26 12:00:00</td>\n",
       "      <td>2012-06-13 02:59:37</td>\n",
       "      <td>Podcast</td>\n",
       "      <td>Presentation skills</td>\n",
       "      <td>-0.47</td>\n",
       "      <td>0.00</td>\n",
       "      <td>Smart TV</td>\n",
       "      <td>Origin ef2b</td>\n",
       "      <td>0,0</td>\n",
       "      <td>Jun</td>\n",
       "      <td>2016</td>\n",
       "      <td>6</td>\n",
       "      <td>26</td>\n",
       "      <td>25</td>\n",
       "      <td>2016-25</td>\n",
       "    </tr>\n",
       "    <tr>\n",
       "      <th>4</th>\n",
       "      <td>2017379</td>\n",
       "      <td>57998</td>\n",
       "      <td>1164511</td>\n",
       "      <td>70388</td>\n",
       "      <td>1436118</td>\n",
       "      <td>2016-06-26 12:00:00</td>\n",
       "      <td>2013-05-07 08:51:31</td>\n",
       "      <td>Podcast</td>\n",
       "      <td>Anxiety management</td>\n",
       "      <td>-0.40</td>\n",
       "      <td>0.00</td>\n",
       "      <td>Smart TV</td>\n",
       "      <td>Origin ef2b</td>\n",
       "      <td>0,0</td>\n",
       "      <td>Jun</td>\n",
       "      <td>2016</td>\n",
       "      <td>6</td>\n",
       "      <td>26</td>\n",
       "      <td>25</td>\n",
       "      <td>2016-25</td>\n",
       "    </tr>\n",
       "  </tbody>\n",
       "</table>\n",
       "</div>"
      ],
      "text/plain": [
       "   purchase_id  product_id  affiliate_id  producer_id  buyer_id  \\\n",
       "0            0           0             0            0         0   \n",
       "1      1663958        6640        209372       116238   1200397   \n",
       "2      1677087        2350        141418         2821   1083764   \n",
       "3      2017360       35669        618642       618642   1436106   \n",
       "4      2017379       57998       1164511        70388   1436118   \n",
       "\n",
       "        purchase_date product_creation_date product_category  \\\n",
       "0 1970-01-01 00:00:00   1970-01-01 00:00:00                0   \n",
       "1 2016-06-26 12:00:00   2011-03-19 15:47:36            Video   \n",
       "2 2016-06-26 12:00:00   2010-07-05 01:50:15          Podcast   \n",
       "3 2016-06-26 12:00:00   2012-06-13 02:59:37          Podcast   \n",
       "4 2016-06-26 12:00:00   2013-05-07 08:51:31          Podcast   \n",
       "\n",
       "         product_niche  purchase_value  affiliate_commission_percentual  \\\n",
       "0                    0            0.00                             0.00   \n",
       "1  Presentation skills           -0.27                             0.00   \n",
       "2     Child psychology           -0.18                             0.00   \n",
       "3  Presentation skills           -0.47                             0.00   \n",
       "4   Anxiety management           -0.40                             0.00   \n",
       "\n",
       "  purchase_device purchase_origin is_origin_page_social_network month_map  \\\n",
       "0               0               0                             0       Jan   \n",
       "1        Smart TV     Origin ef2b                           0,0       Jun   \n",
       "2        Smart TV     Origin ef2b                           0,0       Jun   \n",
       "3        Smart TV     Origin ef2b                           0,0       Jun   \n",
       "4        Smart TV     Origin ef2b                           0,0       Jun   \n",
       "\n",
       "   year  month  day  week_of_year year_week  \n",
       "0  1970      1    1             1   1970-00  \n",
       "1  2016      6   26            25   2016-25  \n",
       "2  2016      6   26            25   2016-25  \n",
       "3  2016      6   26            25   2016-25  \n",
       "4  2016      6   26            25   2016-25  "
      ]
     },
     "execution_count": 181,
     "metadata": {},
     "output_type": "execute_result"
    }
   ],
   "source": [
    "X.head()"
   ]
  },
  {
   "cell_type": "code",
   "execution_count": 182,
   "id": "dc4f709b",
   "metadata": {
    "ExecuteTime": {
     "end_time": "2022-09-08T02:43:39.097098Z",
     "start_time": "2022-09-08T02:43:39.063360Z"
    }
   },
   "outputs": [],
   "source": [
    "cols_drop = ['purchase_id','product_id','affiliate_id', 'producer_id', 'buyer_id','affiliate_id','purchase_date', 'product_creation_date', 'product_category', 'product_niche', 'purchase_device', 'purchase_origin', 'is_origin_page_social_network' ]\n",
    "X = df1.drop(columns= cols_drop )"
   ]
  },
  {
   "cell_type": "markdown",
   "id": "cda1f4f8",
   "metadata": {},
   "source": [
    "# 9 - Hiperparameter Fine Tuning"
   ]
  },
  {
   "cell_type": "markdown",
   "id": "77c2bb7b",
   "metadata": {},
   "source": [
    "## 9.1 K-means"
   ]
  },
  {
   "cell_type": "code",
   "execution_count": null,
   "id": "7f6ccd8e",
   "metadata": {},
   "outputs": [],
   "source": []
  },
  {
   "cell_type": "code",
   "execution_count": null,
   "id": "eb0c5ee3",
   "metadata": {
    "ExecuteTime": {
     "start_time": "2022-09-08T02:43:42.669Z"
    }
   },
   "outputs": [],
   "source": [
    "clusters = [ 10 ]\n",
    "\n",
    "silhouette_list = []\n",
    "davies_list     = []\n",
    "for k in clusters:\n",
    "    # model definition\n",
    "    kmeans_model = c.KMeans( init='random', n_clusters= k, n_init=10, max_iter=100, random_state=42)\n",
    "\n",
    "    \n",
    "    # model training\n",
    "    kmeans_model.fit( X )\n",
    "    \n",
    "    \n",
    "    # model predict\n",
    "    labels = kmeans_model.predict( X )\n",
    "    \n",
    "    # model performance\n",
    "    sil = m.silhouette_score( X, labels )\n",
    "    dav = m.davies_bouldin_score( X, labels)\n",
    "    \n",
    "    silhouette_list.append( sil )\n",
    "    davies_list.append( dav )"
   ]
  },
  {
   "cell_type": "code",
   "execution_count": 68,
   "id": "cd4d2658",
   "metadata": {
    "ExecuteTime": {
     "end_time": "2022-09-06T11:50:19.767116Z",
     "start_time": "2022-09-06T11:50:19.602525Z"
    }
   },
   "outputs": [
    {
     "data": {
      "image/png": "[encoded data removed]",
      "text/plain": [
       "<Figure size 432x288 with 1 Axes>"
      ]
     },
     "metadata": {
      "needs_background": "light"
     },
     "output_type": "display_data"
    },
    {
     "data": {
      "image/png": "[encoded data removed]",
      "text/plain": [
       "<Figure size 1440x720 with 1 Axes>"
      ]
     },
     "metadata": {
      "needs_background": "light"
     },
     "output_type": "display_data"
    }
   ],
   "source": [
    "plt.plot( clusters, davies_list, linestyle='--', marker='o', color='b')\n",
    "\n",
    "plt.figure( figsize=( 20,10 ))\n",
    "plt.xlabel( 'K - Number of Clusters' )\n",
    "plt.ylabel( 'DB Score' )\n",
    "plt.title( 'DB Index ' );\n"
   ]
  },
  {
   "cell_type": "code",
   "execution_count": 69,
   "id": "d334554b",
   "metadata": {
    "ExecuteTime": {
     "end_time": "2022-09-06T11:50:47.326015Z",
     "start_time": "2022-09-06T11:50:47.176694Z"
    }
   },
   "outputs": [
    {
     "data": {
      "image/png": "[encoded data removed]",
      "text/plain": [
       "<Figure size 432x288 with 1 Axes>"
      ]
     },
     "metadata": {
      "needs_background": "light"
     },
     "output_type": "display_data"
    },
    {
     "data": {
      "image/png": "[encoded data removed]",
      "text/plain": [
       "<Figure size 1440x720 with 1 Axes>"
      ]
     },
     "metadata": {
      "needs_background": "light"
     },
     "output_type": "display_data"
    }
   ],
   "source": [
    "plt.plot( clusters, silhouette_list, linestyle='--', marker='o', color='b')\n",
    "\n",
    "plt.figure( figsize=( 20,10 ))\n",
    "plt.xlabel( 'K - Number of Clusters' )\n",
    "plt.ylabel( 'SS - Silhouette Score' )\n",
    "plt.title( 'Silhouette Score' );\n",
    "\n"
   ]
  },
  {
   "cell_type": "markdown",
   "id": "659b91da",
   "metadata": {
    "heading_collapsed": true
   },
   "source": [
    "# 10 - Machine Learn Training"
   ]
  },
  {
   "cell_type": "markdown",
   "id": "9678f33d",
   "metadata": {
    "heading_collapsed": true
   },
   "source": [
    "# 11 - Clustering Analysis"
   ]
  },
  {
   "cell_type": "markdown",
   "id": "c0fe01e6",
   "metadata": {},
   "source": [
    "# 12 - EDA - Inside Reports"
   ]
  },
  {
   "cell_type": "markdown",
   "id": "fe77381d",
   "metadata": {
    "ExecuteTime": {
     "end_time": "2022-09-04T05:09:46.352041Z",
     "start_time": "2022-09-04T05:09:46.349474Z"
    },
    "heading_collapsed": true
   },
   "source": [
    "# 13 - Deploy to Production"
   ]
  },
  {
   "cell_type": "code",
   "execution_count": 97,
   "id": "03f45220",
   "metadata": {
    "ExecuteTime": {
     "end_time": "2022-09-02T21:43:37.323982Z",
     "start_time": "2022-09-02T21:43:37.200828Z"
    },
    "hidden": true
   },
   "outputs": [],
   "source": [
    "cols_drop = ['purchase_date_year', 'purchase_date_month']\n",
    "df1 = df1.drop(cols_drop, axis=1)"
   ]
  },
  {
   "cell_type": "code",
   "execution_count": null,
   "id": "4510c646",
   "metadata": {
    "hidden": true
   },
   "outputs": [],
   "source": []
  },
  {
   "cell_type": "code",
   "execution_count": null,
   "id": "e4e090dd",
   "metadata": {
    "hidden": true
   },
   "outputs": [],
   "source": []
  },
  {
   "cell_type": "code",
   "execution_count": null,
   "id": "b0b173cb",
   "metadata": {
    "hidden": true
   },
   "outputs": [],
   "source": []
  },
  {
   "cell_type": "code",
   "execution_count": null,
   "id": "7389d1c7",
   "metadata": {
    "hidden": true
   },
   "outputs": [],
   "source": []
  },
  {
   "cell_type": "code",
   "execution_count": null,
   "id": "8ef715f4",
   "metadata": {
    "hidden": true
   },
   "outputs": [],
   "source": []
  },
  {
   "cell_type": "code",
   "execution_count": null,
   "id": "48e344f9",
   "metadata": {
    "hidden": true
   },
   "outputs": [],
   "source": []
  },
  {
   "cell_type": "code",
   "execution_count": null,
   "id": "2003971d",
   "metadata": {
    "hidden": true
   },
   "outputs": [],
   "source": []
  },
  {
   "cell_type": "code",
   "execution_count": null,
   "id": "6209f282",
   "metadata": {
    "hidden": true
   },
   "outputs": [],
   "source": []
  },
  {
   "cell_type": "code",
   "execution_count": null,
   "id": "66470db7",
   "metadata": {
    "hidden": true
   },
   "outputs": [],
   "source": []
  },
  {
   "cell_type": "code",
   "execution_count": null,
   "id": "2ec303ed",
   "metadata": {
    "hidden": true
   },
   "outputs": [],
   "source": []
  }
 ],
 "metadata": {
  "hide_input": false,
  "kernelspec": {
   "display_name": "Python 3 (ipykernel)",
   "language": "python",
   "name": "python3"
  },
  "language_info": {
   "codemirror_mode": {
    "name": "ipython",
    "version": 3
   },
   "file_extension": ".py",
   "mimetype": "text/x-python",
   "name": "python",
   "nbconvert_exporter": "python",
   "pygments_lexer": "ipython3",
   "version": "3.9.5"
  },
  "varInspector": {
   "cols": {
    "lenName": 16,
    "lenType": 16,
    "lenVar": 40
   },
   "kernels_config": {
    "python": {
     "delete_cmd_postfix": "",
     "delete_cmd_prefix": "del ",
     "library": "var_list.py",
     "varRefreshCmd": "print(var_dic_list())"
    },
    "r": {
     "delete_cmd_postfix": ") ",
     "delete_cmd_prefix": "rm(",
     "library": "var_list.r",
     "varRefreshCmd": "cat(var_dic_list()) "
    }
   },
   "types_to_exclude": [
    "module",
    "function",
    "builtin_function_or_method",
    "instance",
    "_Feature"
   ],
   "window_display": false
  }
 },
 "nbformat": 4,
 "nbformat_minor": 5
}
